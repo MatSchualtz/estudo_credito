{
 "cells": [
  {
   "cell_type": "markdown",
   "metadata": {},
   "source": [
    "# SETUP\n",
    "***\n",
    "\n",
    "Tópico destinado a configuração do notebook (importação das bibliotecas, criação de função, configuração de gráficos) e leitura inicial dos dados. "
   ]
  },
  {
   "cell_type": "markdown",
   "metadata": {},
   "source": [
    "## Bibliotecas"
   ]
  },
  {
   "cell_type": "code",
   "execution_count": 545,
   "metadata": {},
   "outputs": [],
   "source": [
    "# Dados\n",
    "\n",
    "import pandas as pd\n",
    "import numpy as np \n",
    "\n",
    "# DataViz\n",
    "\n",
    "import matplotlib.pyplot as plt \n",
    "import seaborn as sns\n",
    "from ipywidgets import interact\n",
    "\n",
    "# Estatística\n",
    "\n",
    "from scipy.stats import normaltest, mannwhitneyu, wilcoxon\n",
    "\n",
    "#ML\n",
    "\n",
    "from sklearn.preprocessing import StandardScaler\n",
    "from sklearn.model_selection import train_test_split, GridSearchCV\n",
    "from sklearn.linear_model import LogisticRegression, LinearRegression\n",
    "from sklearn.ensemble import RandomForestClassifier\n",
    "from sklearn.metrics import ConfusionMatrixDisplay, classification_report, confusion_matrix,r2_score\n",
    "\n",
    "# Outros\n",
    "\n",
    "import pickle\n",
    "import warnings"
   ]
  },
  {
   "cell_type": "code",
   "execution_count": 461,
   "metadata": {},
   "outputs": [],
   "source": [
    "warnings.filterwarnings(\"ignore\")"
   ]
  },
  {
   "cell_type": "markdown",
   "metadata": {},
   "source": [
    "## Funções"
   ]
  },
  {
   "cell_type": "code",
   "execution_count": null,
   "metadata": {},
   "outputs": [],
   "source": []
  },
  {
   "cell_type": "markdown",
   "metadata": {},
   "source": [
    "## Configurações de Gráficos"
   ]
  },
  {
   "cell_type": "code",
   "execution_count": 462,
   "metadata": {},
   "outputs": [],
   "source": [
    "sns.set(style=\"darkgrid\", palette=\"Accent\") \n",
    "plt.rcParams[\"figure.figsize\"] = (15, 6)  "
   ]
  },
  {
   "cell_type": "markdown",
   "metadata": {},
   "source": [
    "## Leitura dos dados"
   ]
  },
  {
   "cell_type": "code",
   "execution_count": 463,
   "metadata": {},
   "outputs": [],
   "source": [
    "df = pd.read_csv('../Database/customer_database_case_study.csv')"
   ]
  },
  {
   "cell_type": "markdown",
   "metadata": {},
   "source": [
    "# Entendimento de negócio\n",
    "***"
   ]
  },
  {
   "cell_type": "markdown",
   "metadata": {},
   "source": [
    "De acordo com a solicitação do time de crédito, esse estudo tem os seguintes objetivos:\n",
    "\n",
    "\n",
    "1) Entender se a política de crédito atual tem relação com o comportamento final do cliente, se está impedindo de clientes com probabilidade de inadimplência de receber o crédito.\n",
    "\n",
    "\n",
    "2) Compreender quais principais variáveis impactam no índice de clientes inadimplentes e como é a relação dessas variáveis com o modelo de score atual para propor possíveis melhorias na política de crédito. \n",
    "\n",
    "\n",
    "3) Com base nas respostas dos problemas anteriores entender se é possível auxiliar os clientes que tiveram crédito negado. "
   ]
  },
  {
   "cell_type": "markdown",
   "metadata": {},
   "source": [
    "# Entendimento dos Dados\n",
    "\n",
    "colocar um resumo dos dados e quais tratamentos vão precisar ser aplicados"
   ]
  },
  {
   "cell_type": "code",
   "execution_count": 464,
   "metadata": {},
   "outputs": [
    {
     "name": "stdout",
     "output_type": "stream",
     "text": [
      "<class 'pandas.core.frame.DataFrame'>\n",
      "RangeIndex: 10000 entries, 0 to 9999\n",
      "Data columns (total 14 columns):\n",
      " #   Column            Non-Null Count  Dtype  \n",
      "---  ------            --------------  -----  \n",
      " 0   CustomerID        10000 non-null  int64  \n",
      " 1   ApplicationDate   10000 non-null  object \n",
      " 2   CreditAmount      10000 non-null  int64  \n",
      " 3   PersonType        10000 non-null  object \n",
      " 4   ApprovalStatus    10000 non-null  object \n",
      " 5   ProductType       10000 non-null  object \n",
      " 6   City              9486 non-null   object \n",
      " 7   PersonIncome      4688 non-null   float64\n",
      " 8   PersonAge         4703 non-null   float64\n",
      " 9   CompanyRevenue    4800 non-null   float64\n",
      " 10  CompanyAge        4817 non-null   float64\n",
      " 11  EconomicActivity  4796 non-null   object \n",
      " 12  CreditScore       10000 non-null  int64  \n",
      " 13  DefaultStatus     4954 non-null   float64\n",
      "dtypes: float64(5), int64(3), object(6)\n",
      "memory usage: 1.1+ MB\n"
     ]
    }
   ],
   "source": [
    "df.info()"
   ]
  },
  {
   "cell_type": "markdown",
   "metadata": {},
   "source": [
    "A coluna Id será removida já que não terá utilidade para análise. Após isso será realizado alguns processos de limpeza e engenharia no dataset, a fim de otimizar para as análises."
   ]
  },
  {
   "cell_type": "code",
   "execution_count": 465,
   "metadata": {},
   "outputs": [],
   "source": [
    "df.drop(columns='CustomerID', inplace=True)"
   ]
  },
  {
   "cell_type": "markdown",
   "metadata": {},
   "source": [
    "# Tratamento dos dados\n",
    "***\n",
    "\n",
    "Tópico destinado ao tratamento de dados (verificação de nulos, zeros, outliers)."
   ]
  },
  {
   "cell_type": "markdown",
   "metadata": {},
   "source": [
    "Tratar engenharia das colunas (criar coluna unificada de idade, renda), transformar o pedido de credito em dias (em relação a data atual), limpar nulos, zeros, duplicados, outliers. "
   ]
  },
  {
   "cell_type": "markdown",
   "metadata": {},
   "source": [
    "Notei que o Dataset apresenta uma organização do tipo wide format, a fim de otimizar o dataframe para análise e modelagem irei organizar o Dataset em long format, unificando as colunas de Idade e Renda PF e PJ."
   ]
  },
  {
   "cell_type": "code",
   "execution_count": 466,
   "metadata": {},
   "outputs": [],
   "source": [
    "df_pj = df[df['PersonType'] == 'PJ'][['ApplicationDate','CreditAmount','PersonType','ApprovalStatus','ProductType','City','CompanyRevenue','CompanyAge','EconomicActivity','CreditScore','DefaultStatus']]\n",
    "df_pj.rename(columns={'CompanyAge':'Age','CompanyRevenue':'Revenue'}, inplace=True)\n",
    "df_pf = df[df['PersonType'] == 'PF'][['ApplicationDate','CreditAmount','PersonType','ApprovalStatus','ProductType','City','PersonIncome','PersonAge','EconomicActivity','CreditScore','DefaultStatus']]\n",
    "df_pf.rename(columns={'PersonAge':'Age','PersonIncome':'Revenue'}, inplace=True)\n",
    "df = pd.concat([df_pj,df_pf], axis=0)"
   ]
  },
  {
   "cell_type": "markdown",
   "metadata": {},
   "source": [
    "O próximo tratamento que irei realizar é transformar a data da tomada de crédito em dias até o dia de hoje (20/08/2024), para criar uma nova variável que pode ser útil pra identificar padrões."
   ]
  },
  {
   "cell_type": "code",
   "execution_count": 467,
   "metadata": {},
   "outputs": [],
   "source": [
    "df['ApplicationDate'] = pd.to_datetime(df['ApplicationDate'], format='%Y-%m-%d')\n",
    "df['ApplicationDate'] = (pd.Timestamp.today() - df['ApplicationDate']).dt.days"
   ]
  },
  {
   "cell_type": "markdown",
   "metadata": {},
   "source": [
    "## Nulos, Duplicados, Zeros\n",
    "***\n",
    "\n",
    "Agora será verificado a presença de nulos, zeros desnecessários e dados duplicados, e seguir com o processo de limpeza. Para esse processo primeiramente irei verificar quais colunas possuem dados nulos em excesso, depois explorar alguns dados descritivos das variáveis, além de plotar a distribuição dos dados para compreender qual o tratamento mais adequado."
   ]
  },
  {
   "cell_type": "code",
   "execution_count": 468,
   "metadata": {},
   "outputs": [
    {
     "data": {
      "text/html": [
       "<div>\n",
       "<style scoped>\n",
       "    .dataframe tbody tr th:only-of-type {\n",
       "        vertical-align: middle;\n",
       "    }\n",
       "\n",
       "    .dataframe tbody tr th {\n",
       "        vertical-align: top;\n",
       "    }\n",
       "\n",
       "    .dataframe thead th {\n",
       "        text-align: right;\n",
       "    }\n",
       "</style>\n",
       "<table border=\"1\" class=\"dataframe\">\n",
       "  <thead>\n",
       "    <tr style=\"text-align: right;\">\n",
       "      <th></th>\n",
       "      <th>Absoluto</th>\n",
       "      <th>Percentual</th>\n",
       "    </tr>\n",
       "  </thead>\n",
       "  <tbody>\n",
       "    <tr>\n",
       "      <th>ApplicationDate</th>\n",
       "      <td>0.0</td>\n",
       "      <td>0.00</td>\n",
       "    </tr>\n",
       "    <tr>\n",
       "      <th>CreditAmount</th>\n",
       "      <td>0.0</td>\n",
       "      <td>0.00</td>\n",
       "    </tr>\n",
       "    <tr>\n",
       "      <th>PersonType</th>\n",
       "      <td>0.0</td>\n",
       "      <td>0.00</td>\n",
       "    </tr>\n",
       "    <tr>\n",
       "      <th>ApprovalStatus</th>\n",
       "      <td>0.0</td>\n",
       "      <td>0.00</td>\n",
       "    </tr>\n",
       "    <tr>\n",
       "      <th>ProductType</th>\n",
       "      <td>0.0</td>\n",
       "      <td>0.00</td>\n",
       "    </tr>\n",
       "    <tr>\n",
       "      <th>City</th>\n",
       "      <td>514.0</td>\n",
       "      <td>5.14</td>\n",
       "    </tr>\n",
       "    <tr>\n",
       "      <th>Revenue</th>\n",
       "      <td>512.0</td>\n",
       "      <td>5.12</td>\n",
       "    </tr>\n",
       "    <tr>\n",
       "      <th>Age</th>\n",
       "      <td>480.0</td>\n",
       "      <td>4.80</td>\n",
       "    </tr>\n",
       "    <tr>\n",
       "      <th>EconomicActivity</th>\n",
       "      <td>5204.0</td>\n",
       "      <td>52.04</td>\n",
       "    </tr>\n",
       "    <tr>\n",
       "      <th>CreditScore</th>\n",
       "      <td>0.0</td>\n",
       "      <td>0.00</td>\n",
       "    </tr>\n",
       "    <tr>\n",
       "      <th>DefaultStatus</th>\n",
       "      <td>5046.0</td>\n",
       "      <td>50.46</td>\n",
       "    </tr>\n",
       "  </tbody>\n",
       "</table>\n",
       "</div>"
      ],
      "text/plain": [
       "                  Absoluto  Percentual\n",
       "ApplicationDate        0.0        0.00\n",
       "CreditAmount           0.0        0.00\n",
       "PersonType             0.0        0.00\n",
       "ApprovalStatus         0.0        0.00\n",
       "ProductType            0.0        0.00\n",
       "City                 514.0        5.14\n",
       "Revenue              512.0        5.12\n",
       "Age                  480.0        4.80\n",
       "EconomicActivity    5204.0       52.04\n",
       "CreditScore            0.0        0.00\n",
       "DefaultStatus       5046.0       50.46"
      ]
     },
     "execution_count": 468,
     "metadata": {},
     "output_type": "execute_result"
    }
   ],
   "source": [
    "nulos = pd.DataFrame(data=[df.isnull().sum(),(df.isnull().sum() / len(df)) * 100]).T\n",
    "nulos.columns = ['Absoluto', 'Percentual']\n",
    "nulos"
   ]
  },
  {
   "cell_type": "code",
   "execution_count": 469,
   "metadata": {},
   "outputs": [
    {
     "data": {
      "text/html": [
       "<div>\n",
       "<style scoped>\n",
       "    .dataframe tbody tr th:only-of-type {\n",
       "        vertical-align: middle;\n",
       "    }\n",
       "\n",
       "    .dataframe tbody tr th {\n",
       "        vertical-align: top;\n",
       "    }\n",
       "\n",
       "    .dataframe thead th {\n",
       "        text-align: right;\n",
       "    }\n",
       "</style>\n",
       "<table border=\"1\" class=\"dataframe\">\n",
       "  <thead>\n",
       "    <tr style=\"text-align: right;\">\n",
       "      <th></th>\n",
       "      <th>ApplicationDate</th>\n",
       "      <th>CreditAmount</th>\n",
       "      <th>Revenue</th>\n",
       "      <th>Age</th>\n",
       "      <th>CreditScore</th>\n",
       "      <th>DefaultStatus</th>\n",
       "    </tr>\n",
       "  </thead>\n",
       "  <tbody>\n",
       "    <tr>\n",
       "      <th>count</th>\n",
       "      <td>10000.00</td>\n",
       "      <td>10000.00</td>\n",
       "      <td>9488.00</td>\n",
       "      <td>9520.00</td>\n",
       "      <td>10000.00</td>\n",
       "      <td>4954.00</td>\n",
       "    </tr>\n",
       "    <tr>\n",
       "      <th>mean</th>\n",
       "      <td>416.41</td>\n",
       "      <td>4887.49</td>\n",
       "      <td>274097.79</td>\n",
       "      <td>26.69</td>\n",
       "      <td>574.97</td>\n",
       "      <td>0.19</td>\n",
       "    </tr>\n",
       "    <tr>\n",
       "      <th>std</th>\n",
       "      <td>104.72</td>\n",
       "      <td>4872.02</td>\n",
       "      <td>410243.53</td>\n",
       "      <td>21.35</td>\n",
       "      <td>182.17</td>\n",
       "      <td>0.39</td>\n",
       "    </tr>\n",
       "    <tr>\n",
       "      <th>min</th>\n",
       "      <td>235.00</td>\n",
       "      <td>0.00</td>\n",
       "      <td>349.00</td>\n",
       "      <td>0.00</td>\n",
       "      <td>200.00</td>\n",
       "      <td>0.00</td>\n",
       "    </tr>\n",
       "    <tr>\n",
       "      <th>25%</th>\n",
       "      <td>327.00</td>\n",
       "      <td>1414.00</td>\n",
       "      <td>30508.25</td>\n",
       "      <td>7.00</td>\n",
       "      <td>446.00</td>\n",
       "      <td>0.00</td>\n",
       "    </tr>\n",
       "    <tr>\n",
       "      <th>50%</th>\n",
       "      <td>416.00</td>\n",
       "      <td>3392.00</td>\n",
       "      <td>90553.00</td>\n",
       "      <td>22.00</td>\n",
       "      <td>589.00</td>\n",
       "      <td>0.00</td>\n",
       "    </tr>\n",
       "    <tr>\n",
       "      <th>75%</th>\n",
       "      <td>507.00</td>\n",
       "      <td>6735.75</td>\n",
       "      <td>354813.50</td>\n",
       "      <td>44.00</td>\n",
       "      <td>701.00</td>\n",
       "      <td>0.00</td>\n",
       "    </tr>\n",
       "    <tr>\n",
       "      <th>max</th>\n",
       "      <td>598.00</td>\n",
       "      <td>40862.00</td>\n",
       "      <td>3834176.00</td>\n",
       "      <td>89.00</td>\n",
       "      <td>900.00</td>\n",
       "      <td>1.00</td>\n",
       "    </tr>\n",
       "  </tbody>\n",
       "</table>\n",
       "</div>"
      ],
      "text/plain": [
       "       ApplicationDate  CreditAmount     Revenue      Age  CreditScore  \\\n",
       "count         10000.00      10000.00     9488.00  9520.00     10000.00   \n",
       "mean            416.41       4887.49   274097.79    26.69       574.97   \n",
       "std             104.72       4872.02   410243.53    21.35       182.17   \n",
       "min             235.00          0.00      349.00     0.00       200.00   \n",
       "25%             327.00       1414.00    30508.25     7.00       446.00   \n",
       "50%             416.00       3392.00    90553.00    22.00       589.00   \n",
       "75%             507.00       6735.75   354813.50    44.00       701.00   \n",
       "max             598.00      40862.00  3834176.00    89.00       900.00   \n",
       "\n",
       "       DefaultStatus  \n",
       "count        4954.00  \n",
       "mean            0.19  \n",
       "std             0.39  \n",
       "min             0.00  \n",
       "25%             0.00  \n",
       "50%             0.00  \n",
       "75%             0.00  \n",
       "max             1.00  "
      ]
     },
     "execution_count": 469,
     "metadata": {},
     "output_type": "execute_result"
    }
   ],
   "source": [
    "df.describe().round(2)"
   ]
  },
  {
   "cell_type": "code",
   "execution_count": 470,
   "metadata": {},
   "outputs": [
    {
     "data": {
      "application/vnd.jupyter.widget-view+json": {
       "model_id": "050935553dd2442e9640ff21ffcf079b",
       "version_major": 2,
       "version_minor": 0
      },
      "text/plain": [
       "interactive(children=(Dropdown(description='Variável', options=('Revenue', 'Age'), value='Revenue'), Output())…"
      ]
     },
     "metadata": {},
     "output_type": "display_data"
    }
   ],
   "source": [
    "@interact(Variável=['Revenue','Age'])\n",
    "def histograma_interativo(Variável):\n",
    "    plt.figure(figsize=(12,6))\n",
    "    sns.histplot(df[Variável], kde=True)"
   ]
  },
  {
   "cell_type": "markdown",
   "metadata": {},
   "source": [
    "Antes de seguir com o tratamento dos dados verifiquei que a variável idade tem o valor mínimo de 0 e o primeiro quartil em 7. Isso faz sentido para clientes PJ, porém não faz sentido para clientes PF já que menores não podem tomar crédito, e por isso irei me certificar que esse valor corresponde a clientes PJ!"
   ]
  },
  {
   "cell_type": "code",
   "execution_count": 471,
   "metadata": {},
   "outputs": [
    {
     "name": "stdout",
     "output_type": "stream",
     "text": [
      "Idade Mímina Clientes PF: 18.0\n"
     ]
    }
   ],
   "source": [
    "print('Idade Mímina Clientes PF: {}'.format(df[df['PersonType'] == 'PF']['Age'].min()))"
   ]
  },
  {
   "cell_type": "markdown",
   "metadata": {},
   "source": [
    "### Nulos\n",
    "*** \n"
   ]
  },
  {
   "cell_type": "markdown",
   "metadata": {},
   "source": [
    "Como foi possível ver na contagem de nulos  acima as variáveis de cidade, receita, idade, atividade economica, e status de inadimplência possuem valores nulos, e receberão as seguintes tratativas:\n",
    "\n",
    "Atividade Economica (EconomicActivity) - A coluna será removida, já que possue dados apenas para clientes PJ o que pode não ser uma variável explicativa interessante nesse estudo. \n",
    "\n",
    "Cidade (City) - Como se trata de poucos dados serão apenas removidos. \n",
    "\n",
    "Receita (Revenue) e Idade (Age) - Não tem caracteristica de uma distribuição normal (conforme foi possível verificar nos histogramas plotados), portanto serão preenchidas com a mediana da variável para evitar viés dos possíveis outliers. \n",
    "\n",
    "Status de inadimplência (DefaultStatus) - Os valores nulos nessa coluna tem relação com aprovação do crédito ou não. Para facilitar no desenvolvimento dos dois primeiros objetivos serão escolhidos apenas os clientes que tiveram crédito concedido. Os clientes que não tiveram a concessão serão utilizados apenas para o desenvolvimento do terceiro objetivo."
   ]
  },
  {
   "cell_type": "code",
   "execution_count": 472,
   "metadata": {},
   "outputs": [],
   "source": [
    "#EconomicActivity \n",
    "\n",
    "df.drop(columns='EconomicActivity',inplace=True)\n",
    "\n",
    "#City \n",
    "\n",
    "df.dropna(subset=['City'], inplace=True)\n",
    "\n",
    "#Revenue e Age\n",
    "\n",
    "df['Revenue'].fillna(df['Revenue'].median(),inplace=True)\n",
    "df['Age'].fillna(df['Age'].median(),inplace=True)"
   ]
  },
  {
   "cell_type": "code",
   "execution_count": 473,
   "metadata": {},
   "outputs": [],
   "source": [
    "df_aproval = df.dropna(subset=['DefaultStatus'])\n",
    "df_n_aproval = df[df['DefaultStatus'].isnull()]\n",
    "\n",
    "df_cleaning = df_aproval.drop(columns='ApprovalStatus')"
   ]
  },
  {
   "cell_type": "markdown",
   "metadata": {},
   "source": [
    "### Zeros\n",
    "***\n",
    "\n",
    "O objetivo dessa análise é verificar a presença de zeros que fuja do padrão da variável. "
   ]
  },
  {
   "cell_type": "code",
   "execution_count": 474,
   "metadata": {},
   "outputs": [
    {
     "data": {
      "text/plain": [
       "ApplicationDate       0\n",
       "CreditAmount          0\n",
       "PersonType            0\n",
       "ProductType           0\n",
       "City                  0\n",
       "Revenue               0\n",
       "Age                  91\n",
       "CreditScore           0\n",
       "DefaultStatus      3829\n",
       "dtype: int64"
      ]
     },
     "execution_count": 474,
     "metadata": {},
     "output_type": "execute_result"
    }
   ],
   "source": [
    "(df_cleaning == 0).sum()"
   ]
  },
  {
   "cell_type": "markdown",
   "metadata": {},
   "source": [
    "Os dados fazem sentido com as variáveis, já que na variável idade existem clientes PJ no primeiro ano da empresa, e na variável target se trata de um booleano. "
   ]
  },
  {
   "cell_type": "markdown",
   "metadata": {},
   "source": [
    "### Duplicados"
   ]
  },
  {
   "cell_type": "code",
   "execution_count": 475,
   "metadata": {},
   "outputs": [
    {
     "name": "stdout",
     "output_type": "stream",
     "text": [
      "O dataset possue 0 dados duplicados\n"
     ]
    }
   ],
   "source": [
    "print(f'O dataset possue {df_cleaning.duplicated().sum()} dados duplicados')"
   ]
  },
  {
   "cell_type": "markdown",
   "metadata": {},
   "source": [
    "### Outliers"
   ]
  },
  {
   "cell_type": "code",
   "execution_count": 476,
   "metadata": {},
   "outputs": [
    {
     "data": {
      "application/vnd.jupyter.widget-view+json": {
       "model_id": "67b7d44c83bc4edb9d995cc79a41be24",
       "version_major": 2,
       "version_minor": 0
      },
      "text/plain": [
       "interactive(children=(Dropdown(description='Variável', options=('ApplicationDate', 'CreditAmount', 'Revenue', …"
      ]
     },
     "metadata": {},
     "output_type": "display_data"
    }
   ],
   "source": [
    "@interact(Variável=['ApplicationDate','CreditAmount','Revenue','Age','CreditScore'])\n",
    "def boxplot_interativo(Variável):\n",
    "    plt.figure(figsize=(20,6))\n",
    "    sns.boxplot(df_cleaning, x=Variável)"
   ]
  },
  {
   "cell_type": "markdown",
   "metadata": {},
   "source": [
    "As variáveis valor solicitado (CreditAmount) e receita (Revenue) possuem outliers, porém ao modelar uma regressão será aplicado uma transformação (StandartdScale) para que o modelo não sofra confusão em relação as grandezas de números, e com isso o impacto desses outliers tende a diminuir. "
   ]
  },
  {
   "cell_type": "markdown",
   "metadata": {},
   "source": [
    "# EDA \n",
    "***\n",
    "\n",
    "Esse tópico será focado em responder as seguintes questões:\n",
    "\n",
    "1) A política de crédito atual tem relação com o comportamento final do cliente? Está impedindo que clientes com probabilidade de inadimplência receba o crédito ?\n",
    "\n",
    "    Para esse questão a principal ferramenta será um teste de hipótese a fim de afirmar se existe essa relação ou não. Porém antes será necessário entender como a variável CreditScore se comporta, para definir qual teste será realizado.\n",
    "\n",
    "\n",
    "2) Quais principais variáveis ajudam a identificar prováveis clientes indimplentes? \n",
    "\n",
    "    Para responder essa questão será feito um modelo de regressão logística, para entender a relação da variável dependente (DefaultStatus) representado pela letra y, com as variáveis independentes (as outras variáveis do dataset) e como elas conseguem explicar o comportamento dos possíveis clientes indadimplentes. Posteriormente será feito um modelo de regressão linear com as mesmas variáveis tendo como variável dependente a política de crédito (CreditScore), a fim de entender a relação delas com a política e sugerir possíveis melhorias."
   ]
  },
  {
   "cell_type": "markdown",
   "metadata": {},
   "source": [
    "## 1) A política de crédito atual tem relação com o comportamento final do cliente? Está impedindo que clientes com probabilidade de inadimplência receba o crédito ?"
   ]
  },
  {
   "cell_type": "code",
   "execution_count": 477,
   "metadata": {},
   "outputs": [
    {
     "data": {
      "text/plain": [
       "DefaultStatus\n",
       "0.0    0.814161\n",
       "1.0    0.185839\n",
       "Name: proportion, dtype: float64"
      ]
     },
     "execution_count": 477,
     "metadata": {},
     "output_type": "execute_result"
    }
   ],
   "source": [
    "df_cleaning['DefaultStatus'].value_counts(normalize=True)"
   ]
  },
  {
   "cell_type": "code",
   "execution_count": 478,
   "metadata": {},
   "outputs": [
    {
     "data": {
      "image/png": "[encoded data removed]",
      "text/plain": [
       "<Figure size 1500x600 with 1 Axes>"
      ]
     },
     "metadata": {},
     "output_type": "display_data"
    }
   ],
   "source": [
    "ax = sns.boxplot(data = df_cleaning, x= 'CreditScore', hue='DefaultStatus',width=0.3)\n",
    "ax.set_title('Política de Crédito x Indice de Inadimplência', fontsize=16)\n",
    "ax.set_ylabel('Score de Crédito', fontsize=16);"
   ]
  },
  {
   "cell_type": "markdown",
   "metadata": {},
   "source": [
    "Em uma análise descritiva foi possível notar que da amostra de clientes que tiveram crédito aprovado 81,41% foram adimplentes. Na análise gráfica é notavel que o comportamento do score de crédito não tem gerado impacto em relação aos clientes inadimplentes (1), já que apresenta um comportamento muito similar ao dos clientes adimplentes (0). Para confirmar se existe o score impacta no fato do clientes ser inadimplente ou não será realizado um teste de hipótese, porém antes será necessário entender o comportamento da variável CreditScore através de um histograma para compreender se a distribuição dos dados segue uma normal, o que vai direcionar a escolha do nosso teste, já que caso siga uma normal será aplicado o teste paramétrico de duas amostras, e caso não siga será aplicado o teste de Mann-Whitney."
   ]
  },
  {
   "cell_type": "code",
   "execution_count": 479,
   "metadata": {},
   "outputs": [
    {
     "data": {
      "text/plain": [
       "<Axes: xlabel='CreditScore', ylabel='Count'>"
      ]
     },
     "execution_count": 479,
     "metadata": {},
     "output_type": "execute_result"
    },
    {
     "data": {
      "image/png": "[encoded data removed]",
      "text/plain": [
       "<Figure size 1500x600 with 1 Axes>"
      ]
     },
     "metadata": {},
     "output_type": "display_data"
    }
   ],
   "source": [
    "sns.histplot(df_cleaning['CreditScore'], kde=True)"
   ]
  },
  {
   "cell_type": "markdown",
   "metadata": {},
   "source": [
    "Através da análise gráfica a distribuição aparenta ser uniforme. Irei confirmar isso aplicando um normal test que testa hipótese nula $H_0$ de que a amostra é proveniente de uma distribuição normal. Para o teste será utilizado um nível de significancia de 5%.\n",
    "\n",
    "H0: A amostra é proveniente de uma normal\n",
    "\n",
    "\n",
    "H1: A amostra não proveniente de uma normal"
   ]
  },
  {
   "cell_type": "code",
   "execution_count": 480,
   "metadata": {},
   "outputs": [
    {
     "name": "stdout",
     "output_type": "stream",
     "text": [
      "Rejeitar H0: A variável não se trata de uma normal\n"
     ]
    }
   ],
   "source": [
    "stat_test, pvalor = normaltest(df_cleaning['CreditScore'])\n",
    "\n",
    "if pvalor < 0.05:\n",
    "    print('Rejeitar H0: A variável não se trata de uma normal')\n",
    "else:\n",
    "    print('Não Rejeitar H0: A variável se trata de uma normal')"
   ]
  },
  {
   "cell_type": "markdown",
   "metadata": {},
   "source": [
    "Como foi confirmado que a variável não se trata de uma normal seguirei com a utilização do teste de Mann-Whitney. Ele será um teste bicaudal que vai teste se existe diferença entre a média de score de clientes adimplentes e inadimplentes.\n",
    "\n",
    "H0: Não existe diferença na média de score dos clientes adimplentes e inadimplentes\n",
    "\n",
    "\n",
    "H1: Existe diferença na média de score dos clientes adimplentes e inadimplentes\n"
   ]
  },
  {
   "cell_type": "code",
   "execution_count": 481,
   "metadata": {},
   "outputs": [],
   "source": [
    "adimplentes = df_cleaning.query('DefaultStatus == 0')['CreditScore']\n",
    "inadimplentes = df_cleaning.query('DefaultStatus == 1')['CreditScore']"
   ]
  },
  {
   "cell_type": "code",
   "execution_count": 482,
   "metadata": {},
   "outputs": [
    {
     "name": "stdout",
     "output_type": "stream",
     "text": [
      "Não Rejeitar H0: Não existe evidência estatística de que existe diferença significativa nas médias de score dos clientes adimplentes e inadimplentes\n"
     ]
    }
   ],
   "source": [
    "U, p_valor = mannwhitneyu(adimplentes, inadimplentes, alternative='two-sided')\n",
    "\n",
    "if p_valor < 0.05:\n",
    "    print('Rejeitar H0: Existe diferença significativa nas médias de score dos clientes adimplentes e inadimplentes')\n",
    "else:\n",
    "    print('Não Rejeitar H0: Não existe evidência estatística de que existe diferença significativa nas médias de score dos clientes adimplentes e inadimplentes')"
   ]
  },
  {
   "cell_type": "markdown",
   "metadata": {},
   "source": [
    "Conforme testes realizados, na amostra coletada não existe evidência estatística forte suficiente para afirmar que atual política de crédito está conseguindo avaliar bem o comportamento dos clientes e impedir que o crédito seja concedido para clientes que venham a se tornar inadimplentes.\n",
    "\n",
    "\n",
    "Após obtenção da primeira resposta irei fazer algumas análises e um modelo de regressão logísticas para compreender o comportamento dos clientes inadimplentes."
   ]
  },
  {
   "cell_type": "markdown",
   "metadata": {},
   "source": [
    "## 2) Quais principais variáveis ajudam a identificar prováveis clientes indimplentes? \n",
    "***\n",
    "Vou realizar algumas análises descritivas para compreender quais variáveis podem ter impacto ou não na variável dependente. "
   ]
  },
  {
   "cell_type": "code",
   "execution_count": 483,
   "metadata": {},
   "outputs": [
    {
     "data": {
      "application/vnd.jupyter.widget-view+json": {
       "model_id": "f3438308e24845f28775dd7860d75ee3",
       "version_major": 2,
       "version_minor": 0
      },
      "text/plain": [
       "interactive(children=(Dropdown(description='Váriavel', options=('PersonType', 'ProductType', 'City'), value='P…"
      ]
     },
     "metadata": {},
     "output_type": "display_data"
    }
   ],
   "source": [
    "@interact(Váriavel=['PersonType','ProductType','City'])\n",
    "def barplot_interactive(Váriavel):\n",
    "    tx_inadimplencia = (df_cleaning.groupby(Váriavel)['DefaultStatus'].mean() * 100).round(2).reset_index()\n",
    "    ax = sns.barplot(x=Váriavel, y='DefaultStatus', data=tx_inadimplencia)\n",
    "    ax.set_ylabel('Taxa de Inadimplência')"
   ]
  },
  {
   "cell_type": "markdown",
   "metadata": {},
   "source": [
    "Através da análise gráfica foi possível constatar que todas variáveis categóricas apresentam diferenças das taxas de inadimplência, o que aponta que essas variáveis podem ser relevantes para explicação da target, e por isso devem entrar no modelo. Para isso serão transformadas em variáveis dummies.\n",
    "\n",
    "\n",
    "Em seguida vou validar as variáveis numéricas para compreender a relação com variável target."
   ]
  },
  {
   "cell_type": "code",
   "execution_count": 484,
   "metadata": {},
   "outputs": [
    {
     "data": {
      "text/html": [
       "<div>\n",
       "<style scoped>\n",
       "    .dataframe tbody tr th:only-of-type {\n",
       "        vertical-align: middle;\n",
       "    }\n",
       "\n",
       "    .dataframe tbody tr th {\n",
       "        vertical-align: top;\n",
       "    }\n",
       "\n",
       "    .dataframe thead th {\n",
       "        text-align: right;\n",
       "    }\n",
       "</style>\n",
       "<table border=\"1\" class=\"dataframe\">\n",
       "  <thead>\n",
       "    <tr style=\"text-align: right;\">\n",
       "      <th></th>\n",
       "      <th>ApplicationDate</th>\n",
       "      <th>CreditAmount</th>\n",
       "      <th>Revenue</th>\n",
       "      <th>Age</th>\n",
       "      <th>CreditScore</th>\n",
       "      <th>DefaultStatus</th>\n",
       "    </tr>\n",
       "  </thead>\n",
       "  <tbody>\n",
       "    <tr>\n",
       "      <th>ApplicationDate</th>\n",
       "      <td>1.000000</td>\n",
       "      <td>-0.017655</td>\n",
       "      <td>0.008414</td>\n",
       "      <td>0.005666</td>\n",
       "      <td>0.017478</td>\n",
       "      <td>0.009579</td>\n",
       "    </tr>\n",
       "    <tr>\n",
       "      <th>CreditAmount</th>\n",
       "      <td>-0.017655</td>\n",
       "      <td>1.000000</td>\n",
       "      <td>0.010298</td>\n",
       "      <td>-0.012057</td>\n",
       "      <td>0.009411</td>\n",
       "      <td>0.002567</td>\n",
       "    </tr>\n",
       "    <tr>\n",
       "      <th>Revenue</th>\n",
       "      <td>0.008414</td>\n",
       "      <td>0.010298</td>\n",
       "      <td>1.000000</td>\n",
       "      <td>-0.404870</td>\n",
       "      <td>-0.017418</td>\n",
       "      <td>-0.126826</td>\n",
       "    </tr>\n",
       "    <tr>\n",
       "      <th>Age</th>\n",
       "      <td>0.005666</td>\n",
       "      <td>-0.012057</td>\n",
       "      <td>-0.404870</td>\n",
       "      <td>1.000000</td>\n",
       "      <td>0.011357</td>\n",
       "      <td>0.165524</td>\n",
       "    </tr>\n",
       "    <tr>\n",
       "      <th>CreditScore</th>\n",
       "      <td>0.017478</td>\n",
       "      <td>0.009411</td>\n",
       "      <td>-0.017418</td>\n",
       "      <td>0.011357</td>\n",
       "      <td>1.000000</td>\n",
       "      <td>0.016354</td>\n",
       "    </tr>\n",
       "    <tr>\n",
       "      <th>DefaultStatus</th>\n",
       "      <td>0.009579</td>\n",
       "      <td>0.002567</td>\n",
       "      <td>-0.126826</td>\n",
       "      <td>0.165524</td>\n",
       "      <td>0.016354</td>\n",
       "      <td>1.000000</td>\n",
       "    </tr>\n",
       "  </tbody>\n",
       "</table>\n",
       "</div>"
      ],
      "text/plain": [
       "                 ApplicationDate  CreditAmount   Revenue       Age  \\\n",
       "ApplicationDate         1.000000     -0.017655  0.008414  0.005666   \n",
       "CreditAmount           -0.017655      1.000000  0.010298 -0.012057   \n",
       "Revenue                 0.008414      0.010298  1.000000 -0.404870   \n",
       "Age                     0.005666     -0.012057 -0.404870  1.000000   \n",
       "CreditScore             0.017478      0.009411 -0.017418  0.011357   \n",
       "DefaultStatus           0.009579      0.002567 -0.126826  0.165524   \n",
       "\n",
       "                 CreditScore  DefaultStatus  \n",
       "ApplicationDate     0.017478       0.009579  \n",
       "CreditAmount        0.009411       0.002567  \n",
       "Revenue            -0.017418      -0.126826  \n",
       "Age                 0.011357       0.165524  \n",
       "CreditScore         1.000000       0.016354  \n",
       "DefaultStatus       0.016354       1.000000  "
      ]
     },
     "execution_count": 484,
     "metadata": {},
     "output_type": "execute_result"
    }
   ],
   "source": [
    "df_cleaning.select_dtypes(include=['number']).corr()"
   ]
  },
  {
   "cell_type": "code",
   "execution_count": 485,
   "metadata": {},
   "outputs": [
    {
     "data": {
      "application/vnd.jupyter.widget-view+json": {
       "model_id": "bdf9f22cb56b4406aa7f0935e4a6d340",
       "version_major": 2,
       "version_minor": 0
      },
      "text/plain": [
       "interactive(children=(Dropdown(description='Variável', options=('ApplicationDate', 'CreditAmount', 'Revenue', …"
      ]
     },
     "metadata": {},
     "output_type": "display_data"
    }
   ],
   "source": [
    "@interact(Variável=['ApplicationDate','CreditAmount','Revenue','Age','CreditScore'],\n",
    "         Filtro = ['PersonType','ProductType','City'])\n",
    "def lmplot_interact(Variável, Filtro):\n",
    "    ax= sns.lmplot(y=Variável, x=\"DefaultStatus\", data=df_cleaning, col=Filtro, legend=True)\n",
    "    ax.fig.suptitle(f'Reta de Regressao - Inadimplência X {Variável}', fontsize=16, y=1.02)\n",
    "    ax.set_xlabels(\"Inadimplência\", fontsize=14)\n",
    "    ax.set_ylabels(Variável, fontsize=14);"
   ]
  },
  {
   "cell_type": "markdown",
   "metadata": {},
   "source": [
    "Observando as variáveis contínuas foi possível constatar que as que podem ter maior impacto no modelo é idade e o renda. A relação seria quanto maior a idade maior a chance de inadimplência, e quanto menor a receita maior a chance de inadimplência, análise que faz muito sentido do ponto de vista de negócio.\n",
    "\n",
    "Para sequência irei fazer as transformações necessárias nas variáveis e criar o modelo."
   ]
  },
  {
   "cell_type": "markdown",
   "metadata": {},
   "source": [
    "### Modelagem \n",
    "*** \n",
    "\n",
    "Antes de seguir com o treinamento do modelo vou separar a variável target (y) das variáveis explicativas (X). Depois realizarei dois processos:\n",
    "\n",
    "Variáveis numéricas: Fazer um trasnformação com StandartdScale.\n",
    "\n",
    "Variáveis Categóricas: Criar variáveis Dummies."
   ]
  },
  {
   "cell_type": "code",
   "execution_count": 486,
   "metadata": {},
   "outputs": [],
   "source": [
    "y = df_cleaning['DefaultStatus'].reset_index(drop=True)\n",
    "\n",
    "X = df_cleaning[['ApplicationDate','CreditAmount','PersonType','ProductType','City','Revenue','Age','CreditScore']].reset_index(drop=True)"
   ]
  },
  {
   "cell_type": "code",
   "execution_count": 487,
   "metadata": {},
   "outputs": [],
   "source": [
    "x_numeric = X.select_dtypes(include=['number'])\n",
    "x_categorical = X.select_dtypes(include=['object'])\n",
    "\n",
    "# Escalonamento \n",
    "\n",
    "scale = StandardScaler()\n",
    "x_numeric = pd.DataFrame(scale.fit_transform(x_numeric), columns=x_numeric.columns)\n",
    "\n",
    "# Dummies\n",
    "\n",
    "x_categorical = pd.get_dummies(x_categorical)\n",
    "\n",
    "# X\n",
    "\n",
    "X = pd.concat([x_numeric,x_categorical],axis=1)\n"
   ]
  },
  {
   "cell_type": "markdown",
   "metadata": {},
   "source": [
    "Após as transformações seguirei com a criação do modelo e apuração dos resultados."
   ]
  },
  {
   "cell_type": "code",
   "execution_count": 488,
   "metadata": {},
   "outputs": [
    {
     "name": "stdout",
     "output_type": "stream",
     "text": [
      "Acurácia: 65.36%\n"
     ]
    }
   ],
   "source": [
    "#Modelo \n",
    "\n",
    "lr = LogisticRegression(class_weight='balanced')\n",
    "\n",
    "lr.fit(X, y);\n",
    "\n",
    "y_predict = lr.predict(X)\n",
    "\n",
    "print(f'Acurácia: {(lr.score(X, y) * 100):.2f}%')\n"
   ]
  },
  {
   "cell_type": "code",
   "execution_count": 489,
   "metadata": {},
   "outputs": [
    {
     "name": "stdout",
     "output_type": "stream",
     "text": [
      "              precision    recall  f1-score   support\n",
      "\n",
      "         0.0       0.89      0.66      0.75      3829\n",
      "         1.0       0.30      0.65      0.41       874\n",
      "\n",
      "    accuracy                           0.65      4703\n",
      "   macro avg       0.60      0.65      0.58      4703\n",
      "weighted avg       0.78      0.65      0.69      4703\n",
      "\n"
     ]
    }
   ],
   "source": [
    "classes = lr.classes_.astype('str')\n",
    "print(classification_report(y_true=y, y_pred=y_predict, target_names=classes))"
   ]
  },
  {
   "cell_type": "code",
   "execution_count": 490,
   "metadata": {},
   "outputs": [
    {
     "data": {
      "image/png": "[encoded data removed]",
      "text/plain": [
       "<Figure size 1500x600 with 2 Axes>"
      ]
     },
     "metadata": {},
     "output_type": "display_data"
    }
   ],
   "source": [
    "ax = ConfusionMatrixDisplay(confusion_matrix=confusion_matrix(y, y_predict))\n",
    "ax.plot(cmap=plt.cm.Blues)\n",
    "plt.show()"
   ]
  },
  {
   "cell_type": "markdown",
   "metadata": {},
   "source": [
    "Observando o resultado da regressão logística foi possível ver que o modelo foi capaz de acertar 65.36% das classes da nossa base, além disso o modelo foi satisfatório quanto acertar a classe de clientes inadimplentes, tendo um recall de  65%, o que é aceitável visto que o objetivo do modelo que é entender as variáveis explicativas dos clientes inadimplentes. O modelo não foi totalmente acertivo por ser sensível ao desbalanceamento de classes, para resolver esse problema visando construir um modelo capaz de prever a inadimplência é recomendado utilizar modelos mais robustos (como os modelos de árvore) ou realizar tratamento de balanceamento de classes. \n",
    "\n",
    "Seguindo com a nossa análise, irei plotar a importancia das variáveis de independentes no modelo, para que seja possível entender como cada uma delas auxilía na definição de clientes inadimplentes. "
   ]
  },
  {
   "cell_type": "markdown",
   "metadata": {},
   "source": [
    "### Variáveis Explicativas"
   ]
  },
  {
   "cell_type": "code",
   "execution_count": 491,
   "metadata": {},
   "outputs": [
    {
     "data": {
      "text/plain": [
       "<Axes: >"
      ]
     },
     "execution_count": 491,
     "metadata": {},
     "output_type": "execute_result"
    },
    {
     "data": {
      "image/png": "[encoded data removed]",
      "text/plain": [
       "<Figure size 1500x600 with 1 Axes>"
      ]
     },
     "metadata": {},
     "output_type": "display_data"
    }
   ],
   "source": [
    "sns.barplot(pd.Series(lr.coef_[0], index=X.columns).sort_values(ascending=False), orient='h')"
   ]
  },
  {
   "cell_type": "markdown",
   "metadata": {},
   "source": [
    "Ao analisar as variáveis explicativas, é possível observar que algumas tendem mais à direita e outras à esquerda. As variáveis que estão mais à esquerda (com valores negativos mais altos) explicam a tendência dos clientes a não serem inadimplentes, enquanto as variáveis mais à direita (com valores positivos mais altos) explicam a tendência dos clientes a se tornarem inadimplentes.\n",
    "\n",
    "Pontos Explicatívos:\n",
    "\n",
    "1) Segundo o modelo clientes PF, que residem em Night City, ou tem como produto empréstimos, são clientes com tendência maior de se tornarem inadimplentes. Isso faz sentido do ponto de vista de negócios, pois clientes com empréstimos geralmente tomam crédito de uma vez só, frequentemente para adquirir bens de maior valor e com juros mais altos, o que pode dificultar o pagamento e aumentar o risco de inadimplência em comparação com clientes que utilizam cartões de crédito, onde o limite é concedido aos poucos. O fato de pessoas físicas apresentarem maior tendência também faz sentido, já que empresas tendem a evitar comprometer-se financeiramente para evitar problemas jurídicos que possam impactar gravemente seus resultados.\n",
    "\n",
    "2) Em contraste, a variável receita, que explica a tendência dos clientes a não serem inadimplentes, faz sentido, pois quanto maior a receita da pessoa ou empresa, menor o risco de inadimplência.\n",
    "\n",
    "3) Outro ponto interessante é que variável política de crédito (CreditScore) pouco impactou no modelo, o que corrobora com análise feita no tópico anterior.\n",
    "\n",
    "4) Quanto ao impacto positivo e nagativo das cidades recomendo um estudo demográfico mais aprofundado para entender esse impacto. \n",
    "\n",
    "\n",
    "\n"
   ]
  },
  {
   "cell_type": "markdown",
   "metadata": {},
   "source": [
    "### Entendendo as relações das variáveis independente com a política de crédito para compreender se existe uma possível melhoria a ser realizada.\n",
    "***\n",
    "\n",
    "Vou realizar um estudo similar, porém tomando como variável dependente a política de cŕedito para entender a relação dela com as variáveis e comparar os dois estudos, sugerindo assim (ou não) melhorias na política de crédito, com base nas diferenças."
   ]
  },
  {
   "cell_type": "code",
   "execution_count": 492,
   "metadata": {},
   "outputs": [],
   "source": [
    "y = df_cleaning['CreditScore'].reset_index(drop=True)\n",
    "\n",
    "X = df_cleaning[['ApplicationDate','CreditAmount','PersonType','ProductType','City','Revenue','Age']].reset_index(drop=True)"
   ]
  },
  {
   "cell_type": "code",
   "execution_count": 493,
   "metadata": {},
   "outputs": [
    {
     "data": {
      "application/vnd.jupyter.widget-view+json": {
       "model_id": "f31817e0093346b38e75370e7fdd6b37",
       "version_major": 2,
       "version_minor": 0
      },
      "text/plain": [
       "interactive(children=(Dropdown(description='Variáveis', options=('PersonType', 'ProductType', 'City'), value='…"
      ]
     },
     "metadata": {},
     "output_type": "display_data"
    }
   ],
   "source": [
    " @interact(Variáveis=['PersonType','ProductType','City'])\n",
    " def score_interact(Variáveis):\n",
    "    ax = sns.boxplot(data = df_cleaning, x= 'CreditScore', hue=Variáveis ,width=0.2)\n",
    "    ax.figure.set_size_inches(12,6)\n",
    "    ax.set_title('Política de Crédito', fontsize=16)\n",
    "    ax.set_ylabel('Score', fontsize=16)"
   ]
  },
  {
   "cell_type": "markdown",
   "metadata": {},
   "source": [
    "Visualizando o impacto das variáveis catégoricas na variável dependente foi possível notar que apenas o tipo de pessoa (PF ou PJ) apresenta um leve impacto (pessoas físicas tendem a ter um score um pouco maior). As outras variáveis geram pouca variação no Score."
   ]
  },
  {
   "cell_type": "code",
   "execution_count": 494,
   "metadata": {},
   "outputs": [
    {
     "data": {
      "application/vnd.jupyter.widget-view+json": {
       "model_id": "88405392c9ad462c830ffa6437ebb23a",
       "version_major": 2,
       "version_minor": 0
      },
      "text/plain": [
       "interactive(children=(Dropdown(description='Variáveis', options=('ApplicationDate', 'CreditAmount', 'Revenue',…"
      ]
     },
     "metadata": {},
     "output_type": "display_data"
    }
   ],
   "source": [
    "@interact(Variáveis=['ApplicationDate','CreditAmount','Revenue','Age'])\n",
    "def joinplot_intect(Variáveis):\n",
    "    ax = sns.jointplot(x=Variáveis, y=\"CreditScore\", data=df_cleaning,kind='reg')\n",
    "    ax.fig.suptitle(f'Dispersao - CreditScore x {Variáveis}', fontsize=18, y=1.05)\n",
    "    ax.set_axis_labels(\"CreditScore\", Variáveis, fontsize=14)\n"
   ]
  },
  {
   "cell_type": "markdown",
   "metadata": {},
   "source": [
    "Não foi possível encontrar correlações significativas entre a variável dependente as variáveis independentes. Vou seguir com os mesmos preprocessamentos do modelo anterior e criar o modelo de regressão linear. "
   ]
  },
  {
   "cell_type": "code",
   "execution_count": 495,
   "metadata": {},
   "outputs": [],
   "source": [
    "numeric = df_cleaning.select_dtypes(include=['number'])\n",
    "numeric.drop(columns='DefaultStatus', inplace=True)\n",
    "x_categorical = X.select_dtypes(include=['object'])\n",
    "\n",
    "# Escalonamento \n",
    "\n",
    "scale = StandardScaler()\n",
    "numeric = pd.DataFrame(scale.fit_transform(numeric), columns=numeric.columns)\n",
    "y = numeric['CreditScore']\n",
    "x_numeric = numeric.drop(columns='CreditScore')\n",
    "\n",
    "# Dummies\n",
    "\n",
    "x_categorical = pd.get_dummies(x_categorical)\n",
    "\n",
    "# X\n",
    "\n",
    "X = pd.concat([x_numeric,x_categorical],axis=1)"
   ]
  },
  {
   "cell_type": "code",
   "execution_count": 496,
   "metadata": {},
   "outputs": [
    {
     "name": "stdout",
     "output_type": "stream",
     "text": [
      "R²: 0.08%\n"
     ]
    }
   ],
   "source": [
    "lr = LinearRegression()\n",
    "\n",
    "lr.fit(X,y);\n",
    "\n",
    "y_predict = lr.predict(X)\n",
    "\n",
    "print(f'R²: {r2_score(y, y_predict) * 100:.2f}%')"
   ]
  },
  {
   "cell_type": "markdown",
   "metadata": {},
   "source": [
    "O modelo desenvolvido revelou que apenas 7,68% da variação do Score é explicado pelas variáveis independentes analisadas. Esse resultado é consistente com as análises descritivas prévias e reforça a conclusão de que a política de crédito atual não está sendo efetiva na identificação de clientes com tendência à inadimplência.\n",
    "\n",
    "Diante disso, recomendo ao time de Crédito um ajuste na política, fundamentado nas variáveis que demonstraram ser mais preditivas da inadimplência. Com essa abordagem, o Score se tornará mais preciso e útil tanto para facilitar a concessão de crédito a clientes com boas características quanto para mitigar riscos, tornando a política mais eficaz na previsão de inadimplência."
   ]
  },
  {
   "cell_type": "markdown",
   "metadata": {},
   "source": [
    "## 3) Com base na identificação da necessidade de melhoria da política de crédito, existe uma relação com os clientes que tiveram crédito negado?\n",
    "\n",
    "***\n",
    "\n",
    "Neste último objetivo, buscarei entender se há uma relação entre os clientes que tiveram crédito negado e a política de crédito atual. Caso essa relação seja identificada, utilizarei a amostra de clientes com a variável alvo (DefaultStatus) para treinar um modelo de classificação mais robusto do que a regressão logística. O objetivo é desenvolver um modelo capaz de prever com precisão quais clientes tem tendência a inadimplência e identificar aqueles que podem passar por uma reavaliação de crédito, auxiliando o time de Crédito a conceder mais crédito a clientes com tendência a serem bons pagadores.\n",
    "\n"
   ]
  },
  {
   "cell_type": "code",
   "execution_count": 497,
   "metadata": {},
   "outputs": [],
   "source": [
    "df = pd.concat([df_aproval,df_n_aproval]).reset_index()"
   ]
  },
  {
   "cell_type": "code",
   "execution_count": 498,
   "metadata": {},
   "outputs": [
    {
     "data": {
      "text/html": [
       "<div>\n",
       "<style scoped>\n",
       "    .dataframe tbody tr th:only-of-type {\n",
       "        vertical-align: middle;\n",
       "    }\n",
       "\n",
       "    .dataframe tbody tr th {\n",
       "        vertical-align: top;\n",
       "    }\n",
       "\n",
       "    .dataframe thead th {\n",
       "        text-align: right;\n",
       "    }\n",
       "</style>\n",
       "<table border=\"1\" class=\"dataframe\">\n",
       "  <thead>\n",
       "    <tr style=\"text-align: right;\">\n",
       "      <th></th>\n",
       "      <th>index</th>\n",
       "      <th>ApplicationDate</th>\n",
       "      <th>CreditAmount</th>\n",
       "      <th>PersonType</th>\n",
       "      <th>ApprovalStatus</th>\n",
       "      <th>ProductType</th>\n",
       "      <th>City</th>\n",
       "      <th>Revenue</th>\n",
       "      <th>Age</th>\n",
       "      <th>CreditScore</th>\n",
       "      <th>DefaultStatus</th>\n",
       "    </tr>\n",
       "  </thead>\n",
       "  <tbody>\n",
       "    <tr>\n",
       "      <th>0</th>\n",
       "      <td>1</td>\n",
       "      <td>589</td>\n",
       "      <td>15051</td>\n",
       "      <td>PJ</td>\n",
       "      <td>APPROVED</td>\n",
       "      <td>CartaoCredito</td>\n",
       "      <td>Springfield</td>\n",
       "      <td>374600.0</td>\n",
       "      <td>9.0</td>\n",
       "      <td>810</td>\n",
       "      <td>0.0</td>\n",
       "    </tr>\n",
       "    <tr>\n",
       "      <th>1</th>\n",
       "      <td>5</td>\n",
       "      <td>352</td>\n",
       "      <td>848</td>\n",
       "      <td>PJ</td>\n",
       "      <td>APPROVED</td>\n",
       "      <td>CartaoCredito</td>\n",
       "      <td>Night City</td>\n",
       "      <td>536672.0</td>\n",
       "      <td>39.0</td>\n",
       "      <td>708</td>\n",
       "      <td>0.0</td>\n",
       "    </tr>\n",
       "    <tr>\n",
       "      <th>2</th>\n",
       "      <td>12</td>\n",
       "      <td>589</td>\n",
       "      <td>8932</td>\n",
       "      <td>PJ</td>\n",
       "      <td>APPROVED</td>\n",
       "      <td>Emprestimo</td>\n",
       "      <td>Smallville</td>\n",
       "      <td>141081.0</td>\n",
       "      <td>15.0</td>\n",
       "      <td>518</td>\n",
       "      <td>0.0</td>\n",
       "    </tr>\n",
       "    <tr>\n",
       "      <th>3</th>\n",
       "      <td>16</td>\n",
       "      <td>518</td>\n",
       "      <td>1814</td>\n",
       "      <td>PJ</td>\n",
       "      <td>APPROVED</td>\n",
       "      <td>CartaoCredito</td>\n",
       "      <td>Night City</td>\n",
       "      <td>394356.0</td>\n",
       "      <td>14.0</td>\n",
       "      <td>506</td>\n",
       "      <td>0.0</td>\n",
       "    </tr>\n",
       "    <tr>\n",
       "      <th>4</th>\n",
       "      <td>19</td>\n",
       "      <td>596</td>\n",
       "      <td>1721</td>\n",
       "      <td>PJ</td>\n",
       "      <td>APPROVED</td>\n",
       "      <td>CartaoCredito</td>\n",
       "      <td>Smallville</td>\n",
       "      <td>92704.0</td>\n",
       "      <td>4.0</td>\n",
       "      <td>780</td>\n",
       "      <td>0.0</td>\n",
       "    </tr>\n",
       "    <tr>\n",
       "      <th>...</th>\n",
       "      <td>...</td>\n",
       "      <td>...</td>\n",
       "      <td>...</td>\n",
       "      <td>...</td>\n",
       "      <td>...</td>\n",
       "      <td>...</td>\n",
       "      <td>...</td>\n",
       "      <td>...</td>\n",
       "      <td>...</td>\n",
       "      <td>...</td>\n",
       "      <td>...</td>\n",
       "    </tr>\n",
       "    <tr>\n",
       "      <th>9481</th>\n",
       "      <td>9981</td>\n",
       "      <td>578</td>\n",
       "      <td>4623</td>\n",
       "      <td>PF</td>\n",
       "      <td>DENIED</td>\n",
       "      <td>CartaoCredito</td>\n",
       "      <td>Smallville</td>\n",
       "      <td>90583.0</td>\n",
       "      <td>52.0</td>\n",
       "      <td>351</td>\n",
       "      <td>NaN</td>\n",
       "    </tr>\n",
       "    <tr>\n",
       "      <th>9482</th>\n",
       "      <td>9983</td>\n",
       "      <td>558</td>\n",
       "      <td>12030</td>\n",
       "      <td>PF</td>\n",
       "      <td>DENIED</td>\n",
       "      <td>Emprestimo</td>\n",
       "      <td>Smallville</td>\n",
       "      <td>11874.0</td>\n",
       "      <td>23.0</td>\n",
       "      <td>291</td>\n",
       "      <td>NaN</td>\n",
       "    </tr>\n",
       "    <tr>\n",
       "      <th>9483</th>\n",
       "      <td>9986</td>\n",
       "      <td>503</td>\n",
       "      <td>1964</td>\n",
       "      <td>PF</td>\n",
       "      <td>DENIED</td>\n",
       "      <td>CartaoCredito</td>\n",
       "      <td>Springfield</td>\n",
       "      <td>84311.0</td>\n",
       "      <td>27.0</td>\n",
       "      <td>656</td>\n",
       "      <td>NaN</td>\n",
       "    </tr>\n",
       "    <tr>\n",
       "      <th>9484</th>\n",
       "      <td>9989</td>\n",
       "      <td>504</td>\n",
       "      <td>8459</td>\n",
       "      <td>PF</td>\n",
       "      <td>DENIED</td>\n",
       "      <td>CartaoCredito</td>\n",
       "      <td>Night City</td>\n",
       "      <td>7387.0</td>\n",
       "      <td>22.0</td>\n",
       "      <td>282</td>\n",
       "      <td>NaN</td>\n",
       "    </tr>\n",
       "    <tr>\n",
       "      <th>9485</th>\n",
       "      <td>9999</td>\n",
       "      <td>572</td>\n",
       "      <td>1224</td>\n",
       "      <td>PF</td>\n",
       "      <td>DENIED</td>\n",
       "      <td>CartaoCredito</td>\n",
       "      <td>Smallville</td>\n",
       "      <td>37494.0</td>\n",
       "      <td>36.0</td>\n",
       "      <td>633</td>\n",
       "      <td>NaN</td>\n",
       "    </tr>\n",
       "  </tbody>\n",
       "</table>\n",
       "<p>9486 rows × 11 columns</p>\n",
       "</div>"
      ],
      "text/plain": [
       "      index  ApplicationDate  CreditAmount PersonType ApprovalStatus  \\\n",
       "0         1              589         15051         PJ       APPROVED   \n",
       "1         5              352           848         PJ       APPROVED   \n",
       "2        12              589          8932         PJ       APPROVED   \n",
       "3        16              518          1814         PJ       APPROVED   \n",
       "4        19              596          1721         PJ       APPROVED   \n",
       "...     ...              ...           ...        ...            ...   \n",
       "9481   9981              578          4623         PF         DENIED   \n",
       "9482   9983              558         12030         PF         DENIED   \n",
       "9483   9986              503          1964         PF         DENIED   \n",
       "9484   9989              504          8459         PF         DENIED   \n",
       "9485   9999              572          1224         PF         DENIED   \n",
       "\n",
       "        ProductType         City   Revenue   Age  CreditScore  DefaultStatus  \n",
       "0     CartaoCredito  Springfield  374600.0   9.0          810            0.0  \n",
       "1     CartaoCredito   Night City  536672.0  39.0          708            0.0  \n",
       "2        Emprestimo   Smallville  141081.0  15.0          518            0.0  \n",
       "3     CartaoCredito   Night City  394356.0  14.0          506            0.0  \n",
       "4     CartaoCredito   Smallville   92704.0   4.0          780            0.0  \n",
       "...             ...          ...       ...   ...          ...            ...  \n",
       "9481  CartaoCredito   Smallville   90583.0  52.0          351            NaN  \n",
       "9482     Emprestimo   Smallville   11874.0  23.0          291            NaN  \n",
       "9483  CartaoCredito  Springfield   84311.0  27.0          656            NaN  \n",
       "9484  CartaoCredito   Night City    7387.0  22.0          282            NaN  \n",
       "9485  CartaoCredito   Smallville   37494.0  36.0          633            NaN  \n",
       "\n",
       "[9486 rows x 11 columns]"
      ]
     },
     "execution_count": 498,
     "metadata": {},
     "output_type": "execute_result"
    }
   ],
   "source": [
    "df"
   ]
  },
  {
   "cell_type": "code",
   "execution_count": 499,
   "metadata": {},
   "outputs": [
    {
     "data": {
      "image/png": "[encoded data removed]",
      "text/plain": [
       "<Figure size 1500x600 with 1 Axes>"
      ]
     },
     "metadata": {},
     "output_type": "display_data"
    }
   ],
   "source": [
    "ax = sns.boxplot(df, x = 'CreditScore', y='ApprovalStatus')\n",
    "ax.set_title('Aprovação x Política de Crédito');"
   ]
  },
  {
   "cell_type": "markdown",
   "metadata": {},
   "source": [
    "Através da análise gráfica foi possível constatar diferente comportamento da política de crédito de clientes que tiveram o crédito negado e aprovado. Clientes que foram negados possuem uma mediana menor de score de crédito, o que da pra entender que a política teve uma relação direto com o fato de não terem a concessão. Vou realizar um teste de hipóteses para confirmar essa relação."
   ]
  },
  {
   "cell_type": "code",
   "execution_count": 500,
   "metadata": {},
   "outputs": [
    {
     "data": {
      "text/plain": [
       "<Axes: xlabel='CreditScore', ylabel='Count'>"
      ]
     },
     "execution_count": 500,
     "metadata": {},
     "output_type": "execute_result"
    },
    {
     "data": {
      "image/png": "[encoded data removed]",
      "text/plain": [
       "<Figure size 1500x600 with 1 Axes>"
      ]
     },
     "metadata": {},
     "output_type": "display_data"
    }
   ],
   "source": [
    "sns.histplot(df['CreditScore'],kde=True)"
   ]
  },
  {
   "cell_type": "code",
   "execution_count": 501,
   "metadata": {},
   "outputs": [
    {
     "name": "stdout",
     "output_type": "stream",
     "text": [
      "Rejeitar H0: A variável não se trata de uma normal\n"
     ]
    }
   ],
   "source": [
    "stat_test, pvalor = normaltest(df['CreditScore'])\n",
    "\n",
    "if pvalor < 0.05:\n",
    "    print('Rejeitar H0: A variável não se trata de uma normal')\n",
    "else:\n",
    "    print('Não Rejeitar H0: A variável se trata de uma normal')"
   ]
  },
  {
   "cell_type": "markdown",
   "metadata": {},
   "source": [
    "Como mesmo com mais amostras a variável CreditScore ainda não se comporta como uma normal, vou seguir com um teste não paramétrico. Dessa vez como as duas variáveis possue uma dependência (se o pedido foi negado ele não pode ser aceito) vou utilizar o teste Wilcoxon, que é ideal para esse tipo de problema. Para isso será selecionado 4703 amostras de cada variável (o máximo possível por conta de pedidos aprovados ser levemente menor que negado), e o teste irá ter as seguintes hipóteses:\n",
    "\n",
    "H0: O score dos pedidos negados não é menor que dos pedidos aprovados\n",
    "\n",
    "H1: O score dos pedidos negados é menor que dos pedidos aprovados"
   ]
  },
  {
   "cell_type": "code",
   "execution_count": 502,
   "metadata": {},
   "outputs": [],
   "source": [
    "aprovado = df.query('ApprovalStatus == \"APPROVED\"').sample(4703, random_state=101)['CreditScore']\n",
    "negado = df.query('ApprovalStatus == \"DENIED\"').sample(4703, random_state=101)['CreditScore']"
   ]
  },
  {
   "cell_type": "code",
   "execution_count": 503,
   "metadata": {},
   "outputs": [
    {
     "name": "stdout",
     "output_type": "stream",
     "text": [
      "Acatar H1: O score dos pedidos negados é menor que dos pedidos aprovados\n"
     ]
    }
   ],
   "source": [
    "T, p_valor = wilcoxon(negado, aprovado, alternative='less')\n",
    "\n",
    "if p_valor < 0.01:\n",
    "    print('Acatar H1: O score dos pedidos negados é menor que dos pedidos aprovados')\n",
    "else: \n",
    "    print('Não rejeitar H0: O score dos pedidos negados não é menor que dos pedidos aprovados')"
   ]
  },
  {
   "cell_type": "markdown",
   "metadata": {},
   "source": [
    "Foi possível confirmar, com 99% de confiança, que os clientes que tiveram o pedido de crédito negado foram influenciados por seus scores mais baixos. Portanto, o próximo passo será treinar um modelo de classificação com os dados dos clientes que tiveram o pedido aceito. Esse modelo será mais robusto do que a regressão logística e terá como objetivo prever quais clientes têm maior probabilidade de serem adimplentes. Com isso, esses clientes poderão ser encaminhados para uma reanálise, auxiliando o time de Crédito a conceder mais crédito para bons pagadores.\n",
    "\n",
    "O modelo escolhido será o RandomForestClassifier, um modelo de ensemble do tipo bagging. Esse tipo de modelo combina as previsões de várias árvores de decisão para aumentar a precisão e a robustez das previsões.\n",
    "\n",
    " "
   ]
  },
  {
   "cell_type": "markdown",
   "metadata": {},
   "source": [
    "### Modelo"
   ]
  },
  {
   "cell_type": "code",
   "execution_count": 504,
   "metadata": {},
   "outputs": [],
   "source": [
    "y = df_cleaning['DefaultStatus'].reset_index(drop=True)\n",
    "\n",
    "X = df_cleaning[['ApplicationDate','CreditAmount','PersonType','ProductType','City','Revenue','Age']].reset_index(drop=True)"
   ]
  },
  {
   "cell_type": "code",
   "execution_count": 505,
   "metadata": {},
   "outputs": [],
   "source": [
    "x_numeric = X.select_dtypes(include=['number'])\n",
    "x_categorical = X.select_dtypes(include=['object'])\n",
    "\n",
    "# Escalonamento \n",
    "\n",
    "scale = StandardScaler()\n",
    "x_numeric = pd.DataFrame(scale.fit_transform(x_numeric), columns=x_numeric.columns)\n",
    "\n",
    "# Dummies\n",
    "\n",
    "x_categorical = pd.get_dummies(x_categorical)\n",
    "\n",
    "# X\n",
    "\n",
    "X = pd.concat([x_numeric,x_categorical],axis=1)"
   ]
  },
  {
   "cell_type": "markdown",
   "metadata": {},
   "source": [
    "Para uma avaliação se o modelo é capaz de desempenhar bem em dados apresentados no treinamento vou separar as variáveis em treino e teste."
   ]
  },
  {
   "cell_type": "code",
   "execution_count": 506,
   "metadata": {},
   "outputs": [],
   "source": [
    "X_train, X_test, y_train, y_test = train_test_split(X,y, test_size= 0.25, random_state=42)"
   ]
  },
  {
   "cell_type": "code",
   "execution_count": 507,
   "metadata": {},
   "outputs": [
    {
     "name": "stdout",
     "output_type": "stream",
     "text": [
      "Acurácia Treino: 100.00%\n",
      "Acurácia Teste: 81.63%\n"
     ]
    }
   ],
   "source": [
    "#modelo \n",
    "\n",
    "model = RandomForestClassifier(class_weight='balanced')\n",
    "\n",
    "model.fit(X_train, y_train);\n",
    "\n",
    "y_pred_train = model.predict(X_train)\n",
    "y_pred_test =  model.predict(X_test)\n",
    "\n",
    "\n",
    "print(f'Acurácia Treino: {(model.score(X_train, y_train) * 100):.2f}%')\n",
    "print(f'Acurácia Teste: {(model.score(X_test, y_test) * 100):.2f}%')"
   ]
  },
  {
   "cell_type": "code",
   "execution_count": 508,
   "metadata": {},
   "outputs": [
    {
     "name": "stdout",
     "output_type": "stream",
     "text": [
      "              precision    recall  f1-score   support\n",
      "\n",
      "         0.0       1.00      1.00      1.00      2853\n",
      "         1.0       1.00      1.00      1.00       674\n",
      "\n",
      "    accuracy                           1.00      3527\n",
      "   macro avg       1.00      1.00      1.00      3527\n",
      "weighted avg       1.00      1.00      1.00      3527\n",
      "\n"
     ]
    },
    {
     "data": {
      "image/png": "[encoded data removed]",
      "text/plain": [
       "<Figure size 1500x600 with 2 Axes>"
      ]
     },
     "metadata": {},
     "output_type": "display_data"
    }
   ],
   "source": [
    "classes = model.classes_.astype('str')\n",
    "print(classification_report(y_true=y_train, y_pred=y_pred_train, target_names=classes))\n",
    "\n",
    "ax = ConfusionMatrixDisplay(confusion_matrix=confusion_matrix(y_train, y_pred_train))\n",
    "ax.plot(cmap=plt.cm.Blues)\n",
    "plt.show()"
   ]
  },
  {
   "cell_type": "code",
   "execution_count": 509,
   "metadata": {},
   "outputs": [
    {
     "name": "stdout",
     "output_type": "stream",
     "text": [
      "              precision    recall  f1-score   support\n",
      "\n",
      "         0.0       0.84      0.97      0.90       976\n",
      "         1.0       0.32      0.07      0.11       200\n",
      "\n",
      "    accuracy                           0.82      1176\n",
      "   macro avg       0.58      0.52      0.51      1176\n",
      "weighted avg       0.75      0.82      0.76      1176\n",
      "\n"
     ]
    },
    {
     "data": {
      "image/png": "[encoded data removed]",
      "text/plain": [
       "<Figure size 1500x600 with 2 Axes>"
      ]
     },
     "metadata": {},
     "output_type": "display_data"
    }
   ],
   "source": [
    "classes = model.classes_.astype('str')\n",
    "\n",
    "print(classification_report(y_true=y_test, y_pred=y_pred_test, target_names=classes))\n",
    "\n",
    "\n",
    "ax = ConfusionMatrixDisplay(confusion_matrix=confusion_matrix(y_test, y_pred_test))\n",
    "ax.plot(cmap=plt.cm.Blues)\n",
    "plt.show()"
   ]
  },
  {
   "cell_type": "markdown",
   "metadata": {},
   "source": [
    "Avaliando as métricas, notei que o modelo teve um ótimo desempenho com os dados de treino, mas o mesmo não ocorreu com os dados de teste. Portanto, irei realizar uma tunagem de parâmetros utilizando GridSearch para encontrar o melhor conjunto de parâmetros, de forma que o modelo seja mais eficaz em prever a categoria 1 (clientes com tendência a inadimplência) com maior precisão em dados que não foram expostos ao algoritmo.\n"
   ]
  },
  {
   "cell_type": "code",
   "execution_count": 510,
   "metadata": {},
   "outputs": [],
   "source": [
    "parametros = {'n_estimators': [100, 200, 300],\n",
    "    'max_depth': [10, 20, 30],\n",
    "    'min_samples_split': [2, 5, 10],\n",
    "    'min_samples_leaf': [1, 2, 4],\n",
    "    'class_weight': ['balanced', None]}\n",
    "  \n",
    "grid_search = GridSearchCV(RandomForestClassifier(), parametros, scoring='f1', cv=5, n_jobs = -1)"
   ]
  },
  {
   "cell_type": "code",
   "execution_count": 511,
   "metadata": {},
   "outputs": [],
   "source": [
    "grid_search.fit(X_train, y_train);"
   ]
  },
  {
   "cell_type": "code",
   "execution_count": 512,
   "metadata": {},
   "outputs": [
    {
     "data": {
      "text/html": [
       "<div>\n",
       "<style scoped>\n",
       "    .dataframe tbody tr th:only-of-type {\n",
       "        vertical-align: middle;\n",
       "    }\n",
       "\n",
       "    .dataframe tbody tr th {\n",
       "        vertical-align: top;\n",
       "    }\n",
       "\n",
       "    .dataframe thead th {\n",
       "        text-align: right;\n",
       "    }\n",
       "</style>\n",
       "<table border=\"1\" class=\"dataframe\">\n",
       "  <thead>\n",
       "    <tr style=\"text-align: right;\">\n",
       "      <th></th>\n",
       "      <th>mean_fit_time</th>\n",
       "      <th>std_fit_time</th>\n",
       "      <th>mean_score_time</th>\n",
       "      <th>std_score_time</th>\n",
       "      <th>param_class_weight</th>\n",
       "      <th>param_max_depth</th>\n",
       "      <th>param_min_samples_leaf</th>\n",
       "      <th>param_min_samples_split</th>\n",
       "      <th>param_n_estimators</th>\n",
       "      <th>params</th>\n",
       "      <th>split0_test_score</th>\n",
       "      <th>split1_test_score</th>\n",
       "      <th>split2_test_score</th>\n",
       "      <th>split3_test_score</th>\n",
       "      <th>split4_test_score</th>\n",
       "      <th>mean_test_score</th>\n",
       "      <th>std_test_score</th>\n",
       "      <th>rank_test_score</th>\n",
       "    </tr>\n",
       "  </thead>\n",
       "  <tbody>\n",
       "    <tr>\n",
       "      <th>25</th>\n",
       "      <td>1.370504</td>\n",
       "      <td>0.098244</td>\n",
       "      <td>0.050236</td>\n",
       "      <td>0.003836</td>\n",
       "      <td>balanced</td>\n",
       "      <td>10</td>\n",
       "      <td>4</td>\n",
       "      <td>10</td>\n",
       "      <td>200</td>\n",
       "      <td>{'class_weight': 'balanced', 'max_depth': 10, ...</td>\n",
       "      <td>0.349206</td>\n",
       "      <td>0.297994</td>\n",
       "      <td>0.333333</td>\n",
       "      <td>0.337748</td>\n",
       "      <td>0.310559</td>\n",
       "      <td>0.325768</td>\n",
       "      <td>0.018723</td>\n",
       "      <td>1</td>\n",
       "    </tr>\n",
       "    <tr>\n",
       "      <th>21</th>\n",
       "      <td>0.659187</td>\n",
       "      <td>0.018319</td>\n",
       "      <td>0.027337</td>\n",
       "      <td>0.001942</td>\n",
       "      <td>balanced</td>\n",
       "      <td>10</td>\n",
       "      <td>4</td>\n",
       "      <td>5</td>\n",
       "      <td>100</td>\n",
       "      <td>{'class_weight': 'balanced', 'max_depth': 10, ...</td>\n",
       "      <td>0.344371</td>\n",
       "      <td>0.316418</td>\n",
       "      <td>0.309278</td>\n",
       "      <td>0.310345</td>\n",
       "      <td>0.288462</td>\n",
       "      <td>0.313775</td>\n",
       "      <td>0.017977</td>\n",
       "      <td>2</td>\n",
       "    </tr>\n",
       "    <tr>\n",
       "      <th>17</th>\n",
       "      <td>1.903732</td>\n",
       "      <td>0.081706</td>\n",
       "      <td>0.060269</td>\n",
       "      <td>0.002479</td>\n",
       "      <td>balanced</td>\n",
       "      <td>10</td>\n",
       "      <td>2</td>\n",
       "      <td>10</td>\n",
       "      <td>300</td>\n",
       "      <td>{'class_weight': 'balanced', 'max_depth': 10, ...</td>\n",
       "      <td>0.352941</td>\n",
       "      <td>0.278638</td>\n",
       "      <td>0.313589</td>\n",
       "      <td>0.324138</td>\n",
       "      <td>0.296530</td>\n",
       "      <td>0.313167</td>\n",
       "      <td>0.025186</td>\n",
       "      <td>3</td>\n",
       "    </tr>\n",
       "    <tr>\n",
       "      <th>20</th>\n",
       "      <td>1.990942</td>\n",
       "      <td>0.083899</td>\n",
       "      <td>0.066360</td>\n",
       "      <td>0.005288</td>\n",
       "      <td>balanced</td>\n",
       "      <td>10</td>\n",
       "      <td>4</td>\n",
       "      <td>2</td>\n",
       "      <td>300</td>\n",
       "      <td>{'class_weight': 'balanced', 'max_depth': 10, ...</td>\n",
       "      <td>0.332248</td>\n",
       "      <td>0.303030</td>\n",
       "      <td>0.303448</td>\n",
       "      <td>0.337748</td>\n",
       "      <td>0.289308</td>\n",
       "      <td>0.313157</td>\n",
       "      <td>0.018627</td>\n",
       "      <td>4</td>\n",
       "    </tr>\n",
       "    <tr>\n",
       "      <th>6</th>\n",
       "      <td>0.661343</td>\n",
       "      <td>0.048199</td>\n",
       "      <td>0.025762</td>\n",
       "      <td>0.002123</td>\n",
       "      <td>balanced</td>\n",
       "      <td>10</td>\n",
       "      <td>1</td>\n",
       "      <td>10</td>\n",
       "      <td>100</td>\n",
       "      <td>{'class_weight': 'balanced', 'max_depth': 10, ...</td>\n",
       "      <td>0.335616</td>\n",
       "      <td>0.298780</td>\n",
       "      <td>0.335714</td>\n",
       "      <td>0.327645</td>\n",
       "      <td>0.265372</td>\n",
       "      <td>0.312626</td>\n",
       "      <td>0.027246</td>\n",
       "      <td>5</td>\n",
       "    </tr>\n",
       "    <tr>\n",
       "      <th>...</th>\n",
       "      <td>...</td>\n",
       "      <td>...</td>\n",
       "      <td>...</td>\n",
       "      <td>...</td>\n",
       "      <td>...</td>\n",
       "      <td>...</td>\n",
       "      <td>...</td>\n",
       "      <td>...</td>\n",
       "      <td>...</td>\n",
       "      <td>...</td>\n",
       "      <td>...</td>\n",
       "      <td>...</td>\n",
       "      <td>...</td>\n",
       "      <td>...</td>\n",
       "      <td>...</td>\n",
       "      <td>...</td>\n",
       "      <td>...</td>\n",
       "      <td>...</td>\n",
       "    </tr>\n",
       "    <tr>\n",
       "      <th>100</th>\n",
       "      <td>1.634021</td>\n",
       "      <td>0.089631</td>\n",
       "      <td>0.058081</td>\n",
       "      <td>0.005209</td>\n",
       "      <td>None</td>\n",
       "      <td>10</td>\n",
       "      <td>4</td>\n",
       "      <td>2</td>\n",
       "      <td>200</td>\n",
       "      <td>{'class_weight': None, 'max_depth': 10, 'min_s...</td>\n",
       "      <td>0.014599</td>\n",
       "      <td>0.028571</td>\n",
       "      <td>0.014599</td>\n",
       "      <td>0.041667</td>\n",
       "      <td>0.014493</td>\n",
       "      <td>0.022786</td>\n",
       "      <td>0.010889</td>\n",
       "      <td>158</td>\n",
       "    </tr>\n",
       "    <tr>\n",
       "      <th>106</th>\n",
       "      <td>1.726303</td>\n",
       "      <td>0.102306</td>\n",
       "      <td>0.066241</td>\n",
       "      <td>0.006051</td>\n",
       "      <td>None</td>\n",
       "      <td>10</td>\n",
       "      <td>4</td>\n",
       "      <td>10</td>\n",
       "      <td>200</td>\n",
       "      <td>{'class_weight': None, 'max_depth': 10, 'min_s...</td>\n",
       "      <td>0.014706</td>\n",
       "      <td>0.028571</td>\n",
       "      <td>0.014599</td>\n",
       "      <td>0.055172</td>\n",
       "      <td>0.000000</td>\n",
       "      <td>0.022610</td>\n",
       "      <td>0.018621</td>\n",
       "      <td>159</td>\n",
       "    </tr>\n",
       "    <tr>\n",
       "      <th>103</th>\n",
       "      <td>1.597187</td>\n",
       "      <td>0.063539</td>\n",
       "      <td>0.053906</td>\n",
       "      <td>0.002314</td>\n",
       "      <td>None</td>\n",
       "      <td>10</td>\n",
       "      <td>4</td>\n",
       "      <td>5</td>\n",
       "      <td>200</td>\n",
       "      <td>{'class_weight': None, 'max_depth': 10, 'min_s...</td>\n",
       "      <td>0.014493</td>\n",
       "      <td>0.014388</td>\n",
       "      <td>0.014599</td>\n",
       "      <td>0.055172</td>\n",
       "      <td>0.014388</td>\n",
       "      <td>0.022608</td>\n",
       "      <td>0.016282</td>\n",
       "      <td>160</td>\n",
       "    </tr>\n",
       "    <tr>\n",
       "      <th>107</th>\n",
       "      <td>2.594155</td>\n",
       "      <td>0.117482</td>\n",
       "      <td>0.089447</td>\n",
       "      <td>0.007981</td>\n",
       "      <td>None</td>\n",
       "      <td>10</td>\n",
       "      <td>4</td>\n",
       "      <td>10</td>\n",
       "      <td>300</td>\n",
       "      <td>{'class_weight': None, 'max_depth': 10, 'min_s...</td>\n",
       "      <td>0.014599</td>\n",
       "      <td>0.014286</td>\n",
       "      <td>0.028986</td>\n",
       "      <td>0.054422</td>\n",
       "      <td>0.000000</td>\n",
       "      <td>0.022458</td>\n",
       "      <td>0.018424</td>\n",
       "      <td>161</td>\n",
       "    </tr>\n",
       "    <tr>\n",
       "      <th>89</th>\n",
       "      <td>2.681654</td>\n",
       "      <td>0.168121</td>\n",
       "      <td>0.089186</td>\n",
       "      <td>0.007336</td>\n",
       "      <td>None</td>\n",
       "      <td>10</td>\n",
       "      <td>1</td>\n",
       "      <td>10</td>\n",
       "      <td>300</td>\n",
       "      <td>{'class_weight': None, 'max_depth': 10, 'min_s...</td>\n",
       "      <td>0.014599</td>\n",
       "      <td>0.028169</td>\n",
       "      <td>0.014493</td>\n",
       "      <td>0.054422</td>\n",
       "      <td>0.000000</td>\n",
       "      <td>0.022336</td>\n",
       "      <td>0.018351</td>\n",
       "      <td>162</td>\n",
       "    </tr>\n",
       "  </tbody>\n",
       "</table>\n",
       "<p>162 rows × 18 columns</p>\n",
       "</div>"
      ],
      "text/plain": [
       "     mean_fit_time  std_fit_time  mean_score_time  std_score_time  \\\n",
       "25        1.370504      0.098244         0.050236        0.003836   \n",
       "21        0.659187      0.018319         0.027337        0.001942   \n",
       "17        1.903732      0.081706         0.060269        0.002479   \n",
       "20        1.990942      0.083899         0.066360        0.005288   \n",
       "6         0.661343      0.048199         0.025762        0.002123   \n",
       "..             ...           ...              ...             ...   \n",
       "100       1.634021      0.089631         0.058081        0.005209   \n",
       "106       1.726303      0.102306         0.066241        0.006051   \n",
       "103       1.597187      0.063539         0.053906        0.002314   \n",
       "107       2.594155      0.117482         0.089447        0.007981   \n",
       "89        2.681654      0.168121         0.089186        0.007336   \n",
       "\n",
       "    param_class_weight  param_max_depth  param_min_samples_leaf  \\\n",
       "25            balanced               10                       4   \n",
       "21            balanced               10                       4   \n",
       "17            balanced               10                       2   \n",
       "20            balanced               10                       4   \n",
       "6             balanced               10                       1   \n",
       "..                 ...              ...                     ...   \n",
       "100               None               10                       4   \n",
       "106               None               10                       4   \n",
       "103               None               10                       4   \n",
       "107               None               10                       4   \n",
       "89                None               10                       1   \n",
       "\n",
       "     param_min_samples_split  param_n_estimators  \\\n",
       "25                        10                 200   \n",
       "21                         5                 100   \n",
       "17                        10                 300   \n",
       "20                         2                 300   \n",
       "6                         10                 100   \n",
       "..                       ...                 ...   \n",
       "100                        2                 200   \n",
       "106                       10                 200   \n",
       "103                        5                 200   \n",
       "107                       10                 300   \n",
       "89                        10                 300   \n",
       "\n",
       "                                                params  split0_test_score  \\\n",
       "25   {'class_weight': 'balanced', 'max_depth': 10, ...           0.349206   \n",
       "21   {'class_weight': 'balanced', 'max_depth': 10, ...           0.344371   \n",
       "17   {'class_weight': 'balanced', 'max_depth': 10, ...           0.352941   \n",
       "20   {'class_weight': 'balanced', 'max_depth': 10, ...           0.332248   \n",
       "6    {'class_weight': 'balanced', 'max_depth': 10, ...           0.335616   \n",
       "..                                                 ...                ...   \n",
       "100  {'class_weight': None, 'max_depth': 10, 'min_s...           0.014599   \n",
       "106  {'class_weight': None, 'max_depth': 10, 'min_s...           0.014706   \n",
       "103  {'class_weight': None, 'max_depth': 10, 'min_s...           0.014493   \n",
       "107  {'class_weight': None, 'max_depth': 10, 'min_s...           0.014599   \n",
       "89   {'class_weight': None, 'max_depth': 10, 'min_s...           0.014599   \n",
       "\n",
       "     split1_test_score  split2_test_score  split3_test_score  \\\n",
       "25            0.297994           0.333333           0.337748   \n",
       "21            0.316418           0.309278           0.310345   \n",
       "17            0.278638           0.313589           0.324138   \n",
       "20            0.303030           0.303448           0.337748   \n",
       "6             0.298780           0.335714           0.327645   \n",
       "..                 ...                ...                ...   \n",
       "100           0.028571           0.014599           0.041667   \n",
       "106           0.028571           0.014599           0.055172   \n",
       "103           0.014388           0.014599           0.055172   \n",
       "107           0.014286           0.028986           0.054422   \n",
       "89            0.028169           0.014493           0.054422   \n",
       "\n",
       "     split4_test_score  mean_test_score  std_test_score  rank_test_score  \n",
       "25            0.310559         0.325768        0.018723                1  \n",
       "21            0.288462         0.313775        0.017977                2  \n",
       "17            0.296530         0.313167        0.025186                3  \n",
       "20            0.289308         0.313157        0.018627                4  \n",
       "6             0.265372         0.312626        0.027246                5  \n",
       "..                 ...              ...             ...              ...  \n",
       "100           0.014493         0.022786        0.010889              158  \n",
       "106           0.000000         0.022610        0.018621              159  \n",
       "103           0.014388         0.022608        0.016282              160  \n",
       "107           0.000000         0.022458        0.018424              161  \n",
       "89            0.000000         0.022336        0.018351              162  \n",
       "\n",
       "[162 rows x 18 columns]"
      ]
     },
     "execution_count": 512,
     "metadata": {},
     "output_type": "execute_result"
    }
   ],
   "source": [
    "results = pd.DataFrame(grid_search.cv_results_)\n",
    "results.sort_values(by='rank_test_score')"
   ]
  },
  {
   "cell_type": "code",
   "execution_count": 513,
   "metadata": {},
   "outputs": [
    {
     "data": {
      "text/plain": [
       "{'bootstrap': True,\n",
       " 'ccp_alpha': 0.0,\n",
       " 'class_weight': 'balanced',\n",
       " 'criterion': 'gini',\n",
       " 'max_depth': 10,\n",
       " 'max_features': 'sqrt',\n",
       " 'max_leaf_nodes': None,\n",
       " 'max_samples': None,\n",
       " 'min_impurity_decrease': 0.0,\n",
       " 'min_samples_leaf': 4,\n",
       " 'min_samples_split': 10,\n",
       " 'min_weight_fraction_leaf': 0.0,\n",
       " 'monotonic_cst': None,\n",
       " 'n_estimators': 200,\n",
       " 'n_jobs': None,\n",
       " 'oob_score': False,\n",
       " 'random_state': None,\n",
       " 'verbose': 0,\n",
       " 'warm_start': False}"
      ]
     },
     "execution_count": 513,
     "metadata": {},
     "output_type": "execute_result"
    }
   ],
   "source": [
    "grid_search.best_estimator_.get_params()"
   ]
  },
  {
   "cell_type": "code",
   "execution_count": 514,
   "metadata": {},
   "outputs": [
    {
     "name": "stdout",
     "output_type": "stream",
     "text": [
      "Acurácia Treino: 84.92%\n",
      "Acurácia Teste: 72.70%\n"
     ]
    }
   ],
   "source": [
    "model_tunning = RandomForestClassifier(\n",
    "bootstrap = True,\n",
    "ccp_alpha = 0.0,\n",
    "class_weight = 'balanced',\n",
    "criterion = 'gini',\n",
    "max_depth = 10,\n",
    "max_features = 'sqrt',\n",
    "max_leaf_nodes = None,\n",
    "max_samples = None,\n",
    "min_impurity_decrease = 0.0,\n",
    "min_samples_leaf = 4,\n",
    "min_samples_split = 10,\n",
    "min_weight_fraction_leaf = 0.0,\n",
    "monotonic_cst = None,\n",
    "n_estimators = 200,\n",
    "n_jobs = None,\n",
    "oob_score = False,\n",
    "random_state = None,\n",
    "verbose = 0,\n",
    "warm_start = False)\n",
    "\n",
    "\n",
    "model_tunning.fit(X_train, y_train);\n",
    "\n",
    "y_pred_train = model_tunning.predict(X_train)\n",
    "y_pred_test =  model_tunning.predict(X_test)\n",
    "\n",
    "\n",
    "print(f'Acurácia Treino: {(model_tunning.score(X_train, y_train) * 100):.2f}%')\n",
    "print(f'Acurácia Teste: {(model_tunning.score(X_test, y_test) * 100):.2f}%')"
   ]
  },
  {
   "cell_type": "code",
   "execution_count": 515,
   "metadata": {},
   "outputs": [
    {
     "name": "stdout",
     "output_type": "stream",
     "text": [
      "              precision    recall  f1-score   support\n",
      "\n",
      "         0.0       0.97      0.84      0.90      2853\n",
      "         1.0       0.57      0.87      0.69       674\n",
      "\n",
      "    accuracy                           0.85      3527\n",
      "   macro avg       0.77      0.86      0.79      3527\n",
      "weighted avg       0.89      0.85      0.86      3527\n",
      "\n"
     ]
    },
    {
     "data": {
      "image/png": "[encoded data removed]",
      "text/plain": [
       "<Figure size 1500x600 with 2 Axes>"
      ]
     },
     "metadata": {},
     "output_type": "display_data"
    }
   ],
   "source": [
    "classes = model_tunning.classes_.astype('str')\n",
    "\n",
    "print(classification_report(y_true=y_train, y_pred=y_pred_train, target_names=classes))\n",
    "\n",
    "ax = ConfusionMatrixDisplay(confusion_matrix=confusion_matrix(y_train, y_pred_train))\n",
    "ax.plot(cmap=plt.cm.Blues)\n",
    "plt.show()"
   ]
  },
  {
   "cell_type": "code",
   "execution_count": 516,
   "metadata": {},
   "outputs": [
    {
     "name": "stdout",
     "output_type": "stream",
     "text": [
      "              precision    recall  f1-score   support\n",
      "\n",
      "         0.0       0.88      0.77      0.82       976\n",
      "         1.0       0.31      0.50      0.38       200\n",
      "\n",
      "    accuracy                           0.73      1176\n",
      "   macro avg       0.60      0.64      0.60      1176\n",
      "weighted avg       0.79      0.73      0.75      1176\n",
      "\n"
     ]
    },
    {
     "data": {
      "image/png": "[encoded data removed]",
      "text/plain": [
       "<Figure size 1500x600 with 2 Axes>"
      ]
     },
     "metadata": {},
     "output_type": "display_data"
    }
   ],
   "source": [
    "classes = model_tunning.classes_.astype('str')\n",
    "\n",
    "print(classification_report(y_true=y_test, y_pred=y_pred_test, target_names=classes))\n",
    "\n",
    "ax = ConfusionMatrixDisplay(confusion_matrix=confusion_matrix(y_test, y_pred_test))\n",
    "ax.plot(cmap=plt.cm.Blues)\n",
    "plt.show()"
   ]
  },
  {
   "cell_type": "markdown",
   "metadata": {},
   "source": [
    "O modelo melhorou consideravelmente sua capacidade de prever clientes inadimplentes e, com isso, reduziu o número de falsos positivos, ou seja, clientes que são inadimplentes e foram erroneamente classificados como adimplentes. Esse modelo será utilizado para realizar a previsão dos clientes que tiveram o crédito negado."
   ]
  },
  {
   "cell_type": "markdown",
   "metadata": {},
   "source": [
    "#### Utilizando modelo para gerar base de clientes que podem passar na reanálise!\n",
    "\n",
    "*** \n",
    "\n",
    "Como não foi estruturado nenhum modelo de preprocessamento (etapa importante caso o modelo seja implantado) vou primeiramente fazer todos os passos de preprocessamento na base de clientes não aprovados."
   ]
  },
  {
   "cell_type": "code",
   "execution_count": 532,
   "metadata": {},
   "outputs": [],
   "source": [
    "df_pred = df_n_aproval.drop(columns=['ApprovalStatus','DefaultStatus','CreditScore']).reset_index(drop=True)\n",
    "\n",
    "df_pred_numeric = df_pred.select_dtypes(include=['number'])\n",
    "df_pred_categorical = df_pred.select_dtypes(include=['object'])\n",
    "\n",
    "# Escalonamento \n",
    "\n",
    "scale = StandardScaler()\n",
    "df_pred_numeric = pd.DataFrame(scale.fit_transform(df_pred_numeric), columns=df_pred_numeric.columns)\n",
    "\n",
    "# Dummies\n",
    "\n",
    "df_pred_categorical = pd.get_dummies(df_pred_categorical)\n",
    "\n",
    "# X\n",
    "\n",
    "df_pred = pd.concat([df_pred_numeric,df_pred_categorical],axis=1)"
   ]
  },
  {
   "cell_type": "code",
   "execution_count": 541,
   "metadata": {},
   "outputs": [],
   "source": [
    "# Previsão\n",
    "\n",
    "target = model_tunning.predict(df_pred)\n",
    "\n",
    "#Criar base\n",
    "\n",
    "reavaliacao_credito = df_n_aproval.drop(columns='DefaultStatus').reset_index(drop=True).assign(Prob_DefaultStatus = target).query('Prob_DefaultStatus == 0')\n",
    "\n",
    "\n"
   ]
  },
  {
   "cell_type": "code",
   "execution_count": 544,
   "metadata": {},
   "outputs": [],
   "source": [
    "reavaliacao_credito.to_csv('../Database/reavaliacao_credito.csv')"
   ]
  },
  {
   "cell_type": "markdown",
   "metadata": {},
   "source": [
    "#### Salvando modelo para deploy"
   ]
  },
  {
   "cell_type": "code",
   "execution_count": 546,
   "metadata": {},
   "outputs": [],
   "source": [
    "with open('../Models/model_credit_risk.pkl', 'wb') as file_model:\n",
    "    pickle.dump(model_tunning, file_model)"
   ]
  }
 ],
 "metadata": {
  "kernelspec": {
   "display_name": "Python 3",
   "language": "python",
   "name": "python3"
  },
  "language_info": {
   "codemirror_mode": {
    "name": "ipython",
    "version": 3
   },
   "file_extension": ".py",
   "mimetype": "text/x-python",
   "name": "python",
   "nbconvert_exporter": "python",
   "pygments_lexer": "ipython3",
   "version": "3.10.12"
  }
 },
 "nbformat": 4,
 "nbformat_minor": 2
}
