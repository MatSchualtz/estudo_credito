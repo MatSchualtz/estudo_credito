{
 "cells": [
  {
   "cell_type": "markdown",
   "metadata": {},
   "source": [
    "# SETUP\n",
    "***\n",
    "\n",
    "Tópico destinado a configuração do notebook (importação das bibliotecas, criação de função, configuração de gráficos) e leitura inicial dos dados. "
   ]
  },
  {
   "cell_type": "markdown",
   "metadata": {},
   "source": [
    "## Bibliotecas"
   ]
  },
  {
   "cell_type": "code",
   "execution_count": 164,
   "metadata": {},
   "outputs": [],
   "source": [
    "# Dados\n",
    "\n",
    "import pandas as pd\n",
    "import numpy as np \n",
    "\n",
    "# DataViz\n",
    "\n",
    "import matplotlib.pyplot as plt \n",
    "import seaborn as sns\n",
    "from ipywidgets import interact\n",
    "\n",
    "# Estatística\n",
    "\n",
    "from scipy.stats import normaltest, mannwhitneyu\n",
    "\n",
    "#ML\n",
    "\n",
    "from sklearn.preprocessing import StandardScaler\n",
    "from sklearn.model_selection import train_test_split\n",
    "from sklearn.linear_model import LogisticRegression\n",
    "from sklearn.metrics import ConfusionMatrixDisplay, classification_report, auc, confusion_matrix\n",
    "\n",
    "# Outros\n",
    "\n",
    "import warnings"
   ]
  },
  {
   "cell_type": "code",
   "execution_count": 165,
   "metadata": {},
   "outputs": [],
   "source": [
    "warnings.filterwarnings(\"ignore\")"
   ]
  },
  {
   "cell_type": "markdown",
   "metadata": {},
   "source": [
    "## Funções"
   ]
  },
  {
   "cell_type": "code",
   "execution_count": null,
   "metadata": {},
   "outputs": [],
   "source": []
  },
  {
   "cell_type": "markdown",
   "metadata": {},
   "source": [
    "## Configurações de Gráficos"
   ]
  },
  {
   "cell_type": "code",
   "execution_count": 166,
   "metadata": {},
   "outputs": [],
   "source": [
    "sns.set(style=\"darkgrid\", palette=\"Accent\") \n",
    "plt.rcParams[\"figure.figsize\"] = (15, 6)  "
   ]
  },
  {
   "cell_type": "markdown",
   "metadata": {},
   "source": [
    "## Leitura dos dados"
   ]
  },
  {
   "cell_type": "code",
   "execution_count": 167,
   "metadata": {},
   "outputs": [],
   "source": [
    "df = pd.read_csv('../Database/customer_database_case_study.csv')"
   ]
  },
  {
   "cell_type": "markdown",
   "metadata": {},
   "source": [
    "# Entendimento de negócio\n",
    "***"
   ]
  },
  {
   "cell_type": "markdown",
   "metadata": {},
   "source": [
    "De acordo com a solicitação do time de crédito, esse estudo tem os seguintes objetivos:\n",
    "\n",
    "\n",
    "1) Entender se a política de crédito atual tem relação com o comportamento final do cliente, se está impedindo de clientes com probabilidade de inadimplência de receber o crédito.\n",
    "\n",
    "\n",
    "2) Compreender quais principais variáveis impactam no índice de clientes inadimplentes e como é a relação dessas variáveis com o modelo de score atual para propor possíveis melhorias na política de crédito. \n",
    "\n",
    "\n",
    "3) Treinar um algorítimo de classificação capaz de prever os clientes que ainda não possuem a variável target (inadimplência) definida. (regressão logística)"
   ]
  },
  {
   "cell_type": "markdown",
   "metadata": {},
   "source": [
    "# Entendimento dos Dados\n",
    "\n",
    "colocar um resumo dos dados e quais tratamentos vão precisar ser aplicados"
   ]
  },
  {
   "cell_type": "code",
   "execution_count": 168,
   "metadata": {},
   "outputs": [
    {
     "name": "stdout",
     "output_type": "stream",
     "text": [
      "<class 'pandas.core.frame.DataFrame'>\n",
      "RangeIndex: 10000 entries, 0 to 9999\n",
      "Data columns (total 14 columns):\n",
      " #   Column            Non-Null Count  Dtype  \n",
      "---  ------            --------------  -----  \n",
      " 0   CustomerID        10000 non-null  int64  \n",
      " 1   ApplicationDate   10000 non-null  object \n",
      " 2   CreditAmount      10000 non-null  int64  \n",
      " 3   PersonType        10000 non-null  object \n",
      " 4   ApprovalStatus    10000 non-null  object \n",
      " 5   ProductType       10000 non-null  object \n",
      " 6   City              9486 non-null   object \n",
      " 7   PersonIncome      4688 non-null   float64\n",
      " 8   PersonAge         4703 non-null   float64\n",
      " 9   CompanyRevenue    4800 non-null   float64\n",
      " 10  CompanyAge        4817 non-null   float64\n",
      " 11  EconomicActivity  4796 non-null   object \n",
      " 12  CreditScore       10000 non-null  int64  \n",
      " 13  DefaultStatus     4954 non-null   float64\n",
      "dtypes: float64(5), int64(3), object(6)\n",
      "memory usage: 1.1+ MB\n"
     ]
    }
   ],
   "source": [
    "df.info()"
   ]
  },
  {
   "cell_type": "markdown",
   "metadata": {},
   "source": [
    "A coluna Id será removida já que não terá utilidade para análise. Após isso será realizado alguns processos de limpeza e engenharia no dataset, a fim de otimizar para as análises."
   ]
  },
  {
   "cell_type": "code",
   "execution_count": 169,
   "metadata": {},
   "outputs": [],
   "source": [
    "df.drop(columns='CustomerID', inplace=True)"
   ]
  },
  {
   "cell_type": "markdown",
   "metadata": {},
   "source": [
    "# Tratamento dos dados\n",
    "***\n",
    "\n",
    "Tópico destinado ao tratamento de dados (verificação de nulos, zeros, outliers)."
   ]
  },
  {
   "cell_type": "markdown",
   "metadata": {},
   "source": [
    "Tratar engenharia das colunas (criar coluna unificada de idade, renda), transformar o pedido de credito em dias (em relação a data atual), limpar nulos, zeros, duplicados, outliers. "
   ]
  },
  {
   "cell_type": "markdown",
   "metadata": {},
   "source": [
    "Notei que o Dataset apresenta uma organização do tipo wide format, a fim de otimizar o dataframe para análise e modelagem irei organizar o Dataset em long format, unificando as colunas de Idade e Renda PF e PJ."
   ]
  },
  {
   "cell_type": "code",
   "execution_count": 170,
   "metadata": {},
   "outputs": [],
   "source": [
    "df_pj = df[df['PersonType'] == 'PJ'][['ApplicationDate','CreditAmount','PersonType','ApprovalStatus','ProductType','City','CompanyRevenue','CompanyAge','EconomicActivity','CreditScore','DefaultStatus']]\n",
    "df_pj.rename(columns={'CompanyAge':'Age','CompanyRevenue':'Revenue'}, inplace=True)\n",
    "df_pf = df[df['PersonType'] == 'PF'][['ApplicationDate','CreditAmount','PersonType','ApprovalStatus','ProductType','City','PersonIncome','PersonAge','EconomicActivity','CreditScore','DefaultStatus']]\n",
    "df_pf.rename(columns={'PersonAge':'Age','PersonIncome':'Revenue'}, inplace=True)\n",
    "df = pd.concat([df_pj,df_pf], axis=0)"
   ]
  },
  {
   "cell_type": "markdown",
   "metadata": {},
   "source": [
    "O próximo tratamento que irei realizar é transformar a data da tomada de crédito em dias até o dia de hoje (20/08/2024), para criar uma nova variável que pode ser útil pra identificar padrões."
   ]
  },
  {
   "cell_type": "code",
   "execution_count": 171,
   "metadata": {},
   "outputs": [],
   "source": [
    "df['ApplicationDate'] = pd.to_datetime(df['ApplicationDate'], format='%Y-%m-%d')\n",
    "df['ApplicationDate'] = (pd.Timestamp.today() - df['ApplicationDate']).dt.days"
   ]
  },
  {
   "cell_type": "markdown",
   "metadata": {},
   "source": [
    "## Nulos, Duplicados, Zeros\n",
    "***\n",
    "\n",
    "Agora será verificado a presença de nulos, zeros desnecessários e dados duplicados, e seguir com o processo de limpeza. Para esse processo primeiramente irei verificar quais colunas possuem dados nulos em excesso, depois explorar alguns dados descritivos das variáveis, além de plotar a distribuição dos dados para compreender qual o tratamento mais adequado."
   ]
  },
  {
   "cell_type": "code",
   "execution_count": 172,
   "metadata": {},
   "outputs": [
    {
     "data": {
      "text/html": [
       "<div>\n",
       "<style scoped>\n",
       "    .dataframe tbody tr th:only-of-type {\n",
       "        vertical-align: middle;\n",
       "    }\n",
       "\n",
       "    .dataframe tbody tr th {\n",
       "        vertical-align: top;\n",
       "    }\n",
       "\n",
       "    .dataframe thead th {\n",
       "        text-align: right;\n",
       "    }\n",
       "</style>\n",
       "<table border=\"1\" class=\"dataframe\">\n",
       "  <thead>\n",
       "    <tr style=\"text-align: right;\">\n",
       "      <th></th>\n",
       "      <th>Absoluto</th>\n",
       "      <th>Percentual</th>\n",
       "    </tr>\n",
       "  </thead>\n",
       "  <tbody>\n",
       "    <tr>\n",
       "      <th>ApplicationDate</th>\n",
       "      <td>0.0</td>\n",
       "      <td>0.00</td>\n",
       "    </tr>\n",
       "    <tr>\n",
       "      <th>CreditAmount</th>\n",
       "      <td>0.0</td>\n",
       "      <td>0.00</td>\n",
       "    </tr>\n",
       "    <tr>\n",
       "      <th>PersonType</th>\n",
       "      <td>0.0</td>\n",
       "      <td>0.00</td>\n",
       "    </tr>\n",
       "    <tr>\n",
       "      <th>ApprovalStatus</th>\n",
       "      <td>0.0</td>\n",
       "      <td>0.00</td>\n",
       "    </tr>\n",
       "    <tr>\n",
       "      <th>ProductType</th>\n",
       "      <td>0.0</td>\n",
       "      <td>0.00</td>\n",
       "    </tr>\n",
       "    <tr>\n",
       "      <th>City</th>\n",
       "      <td>514.0</td>\n",
       "      <td>5.14</td>\n",
       "    </tr>\n",
       "    <tr>\n",
       "      <th>Revenue</th>\n",
       "      <td>512.0</td>\n",
       "      <td>5.12</td>\n",
       "    </tr>\n",
       "    <tr>\n",
       "      <th>Age</th>\n",
       "      <td>480.0</td>\n",
       "      <td>4.80</td>\n",
       "    </tr>\n",
       "    <tr>\n",
       "      <th>EconomicActivity</th>\n",
       "      <td>5204.0</td>\n",
       "      <td>52.04</td>\n",
       "    </tr>\n",
       "    <tr>\n",
       "      <th>CreditScore</th>\n",
       "      <td>0.0</td>\n",
       "      <td>0.00</td>\n",
       "    </tr>\n",
       "    <tr>\n",
       "      <th>DefaultStatus</th>\n",
       "      <td>5046.0</td>\n",
       "      <td>50.46</td>\n",
       "    </tr>\n",
       "  </tbody>\n",
       "</table>\n",
       "</div>"
      ],
      "text/plain": [
       "                  Absoluto  Percentual\n",
       "ApplicationDate        0.0        0.00\n",
       "CreditAmount           0.0        0.00\n",
       "PersonType             0.0        0.00\n",
       "ApprovalStatus         0.0        0.00\n",
       "ProductType            0.0        0.00\n",
       "City                 514.0        5.14\n",
       "Revenue              512.0        5.12\n",
       "Age                  480.0        4.80\n",
       "EconomicActivity    5204.0       52.04\n",
       "CreditScore            0.0        0.00\n",
       "DefaultStatus       5046.0       50.46"
      ]
     },
     "execution_count": 172,
     "metadata": {},
     "output_type": "execute_result"
    }
   ],
   "source": [
    "nulos = pd.DataFrame(data=[df.isnull().sum(),(df.isnull().sum() / len(df)) * 100]).T\n",
    "nulos.columns = ['Absoluto', 'Percentual']\n",
    "nulos"
   ]
  },
  {
   "cell_type": "code",
   "execution_count": 173,
   "metadata": {},
   "outputs": [
    {
     "data": {
      "text/html": [
       "<div>\n",
       "<style scoped>\n",
       "    .dataframe tbody tr th:only-of-type {\n",
       "        vertical-align: middle;\n",
       "    }\n",
       "\n",
       "    .dataframe tbody tr th {\n",
       "        vertical-align: top;\n",
       "    }\n",
       "\n",
       "    .dataframe thead th {\n",
       "        text-align: right;\n",
       "    }\n",
       "</style>\n",
       "<table border=\"1\" class=\"dataframe\">\n",
       "  <thead>\n",
       "    <tr style=\"text-align: right;\">\n",
       "      <th></th>\n",
       "      <th>ApplicationDate</th>\n",
       "      <th>CreditAmount</th>\n",
       "      <th>Revenue</th>\n",
       "      <th>Age</th>\n",
       "      <th>CreditScore</th>\n",
       "      <th>DefaultStatus</th>\n",
       "    </tr>\n",
       "  </thead>\n",
       "  <tbody>\n",
       "    <tr>\n",
       "      <th>count</th>\n",
       "      <td>10000.00</td>\n",
       "      <td>10000.00</td>\n",
       "      <td>9488.00</td>\n",
       "      <td>9520.00</td>\n",
       "      <td>10000.00</td>\n",
       "      <td>4954.00</td>\n",
       "    </tr>\n",
       "    <tr>\n",
       "      <th>mean</th>\n",
       "      <td>416.41</td>\n",
       "      <td>4887.49</td>\n",
       "      <td>274097.79</td>\n",
       "      <td>26.69</td>\n",
       "      <td>574.97</td>\n",
       "      <td>0.19</td>\n",
       "    </tr>\n",
       "    <tr>\n",
       "      <th>std</th>\n",
       "      <td>104.72</td>\n",
       "      <td>4872.02</td>\n",
       "      <td>410243.53</td>\n",
       "      <td>21.35</td>\n",
       "      <td>182.17</td>\n",
       "      <td>0.39</td>\n",
       "    </tr>\n",
       "    <tr>\n",
       "      <th>min</th>\n",
       "      <td>235.00</td>\n",
       "      <td>0.00</td>\n",
       "      <td>349.00</td>\n",
       "      <td>0.00</td>\n",
       "      <td>200.00</td>\n",
       "      <td>0.00</td>\n",
       "    </tr>\n",
       "    <tr>\n",
       "      <th>25%</th>\n",
       "      <td>327.00</td>\n",
       "      <td>1414.00</td>\n",
       "      <td>30508.25</td>\n",
       "      <td>7.00</td>\n",
       "      <td>446.00</td>\n",
       "      <td>0.00</td>\n",
       "    </tr>\n",
       "    <tr>\n",
       "      <th>50%</th>\n",
       "      <td>416.00</td>\n",
       "      <td>3392.00</td>\n",
       "      <td>90553.00</td>\n",
       "      <td>22.00</td>\n",
       "      <td>589.00</td>\n",
       "      <td>0.00</td>\n",
       "    </tr>\n",
       "    <tr>\n",
       "      <th>75%</th>\n",
       "      <td>507.00</td>\n",
       "      <td>6735.75</td>\n",
       "      <td>354813.50</td>\n",
       "      <td>44.00</td>\n",
       "      <td>701.00</td>\n",
       "      <td>0.00</td>\n",
       "    </tr>\n",
       "    <tr>\n",
       "      <th>max</th>\n",
       "      <td>598.00</td>\n",
       "      <td>40862.00</td>\n",
       "      <td>3834176.00</td>\n",
       "      <td>89.00</td>\n",
       "      <td>900.00</td>\n",
       "      <td>1.00</td>\n",
       "    </tr>\n",
       "  </tbody>\n",
       "</table>\n",
       "</div>"
      ],
      "text/plain": [
       "       ApplicationDate  CreditAmount     Revenue      Age  CreditScore  \\\n",
       "count         10000.00      10000.00     9488.00  9520.00     10000.00   \n",
       "mean            416.41       4887.49   274097.79    26.69       574.97   \n",
       "std             104.72       4872.02   410243.53    21.35       182.17   \n",
       "min             235.00          0.00      349.00     0.00       200.00   \n",
       "25%             327.00       1414.00    30508.25     7.00       446.00   \n",
       "50%             416.00       3392.00    90553.00    22.00       589.00   \n",
       "75%             507.00       6735.75   354813.50    44.00       701.00   \n",
       "max             598.00      40862.00  3834176.00    89.00       900.00   \n",
       "\n",
       "       DefaultStatus  \n",
       "count        4954.00  \n",
       "mean            0.19  \n",
       "std             0.39  \n",
       "min             0.00  \n",
       "25%             0.00  \n",
       "50%             0.00  \n",
       "75%             0.00  \n",
       "max             1.00  "
      ]
     },
     "execution_count": 173,
     "metadata": {},
     "output_type": "execute_result"
    }
   ],
   "source": [
    "df.describe().round(2)"
   ]
  },
  {
   "cell_type": "code",
   "execution_count": 174,
   "metadata": {},
   "outputs": [
    {
     "data": {
      "application/vnd.jupyter.widget-view+json": {
       "model_id": "f2ffaf14e0414bb2b30ff186c2e3684c",
       "version_major": 2,
       "version_minor": 0
      },
      "text/plain": [
       "interactive(children=(Dropdown(description='Variável', options=('Revenue', 'Age'), value='Revenue'), Output())…"
      ]
     },
     "metadata": {},
     "output_type": "display_data"
    }
   ],
   "source": [
    "@interact(Variável=['Revenue','Age'])\n",
    "def histograma_interativo(Variável):\n",
    "    plt.figure(figsize=(12,6))\n",
    "    sns.histplot(df[Variável], kde=True)"
   ]
  },
  {
   "cell_type": "markdown",
   "metadata": {},
   "source": [
    "Antes de seguir com o tratamento dos dados verifiquei que a variável idade tem o valor mínimo de 0 e o primeiro quartil em 7. Isso faz sentido para clientes PJ, porém não faz sentido para clientes PF já que menores não podem tomar crédito, e por isso irei me certificar que esse valor corresponde a clientes PJ!"
   ]
  },
  {
   "cell_type": "code",
   "execution_count": 175,
   "metadata": {},
   "outputs": [
    {
     "name": "stdout",
     "output_type": "stream",
     "text": [
      "Idade Mímina Clientes PF: 18.0\n"
     ]
    }
   ],
   "source": [
    "print('Idade Mímina Clientes PF: {}'.format(df[df['PersonType'] == 'PF']['Age'].min()))"
   ]
  },
  {
   "cell_type": "markdown",
   "metadata": {},
   "source": [
    "### Nulos\n",
    "*** \n"
   ]
  },
  {
   "cell_type": "markdown",
   "metadata": {},
   "source": [
    "Como foi possível ver na contagem de nulos  acima as variáveis de cidade, receita, idade, atividade economica, e status de inadimplência possuem valores nulos, e receberão as seguintes tratativas:\n",
    "\n",
    "Atividade Economica (EconomicActivity) - A coluna será removida, já que possue dados apenas para clientes PJ o que pode não ser uma variável explicativa interessante nesse estudo. \n",
    "\n",
    "Cidade (City) - Como se trata de poucos dados serão apenas removidos. \n",
    "\n",
    "Receita (Revenue) e Idade (Age) - Não tem caracteristica de uma distribuição normal (conforme foi possível verificar nos histogramas plotados), portanto serão preenchidas com a mediana da variável para evitar viés dos possíveis outliers. \n",
    "\n",
    "Status de inadimplência (DefaultStatus) - Os valores nulos nessa coluna tem relação com aprovação do crédito ou não. Para análise será separado apenas os clientes que tiveram crédito concedido, e ou clientes que não tiveram a concessão irão passar pelo modelo desenvolvido ao final do estudo, os casos identificados como que não possuem probabilidade de inadimplência serão encaminhados para o setor de crédito para uma reanalise. "
   ]
  },
  {
   "cell_type": "code",
   "execution_count": 176,
   "metadata": {},
   "outputs": [],
   "source": [
    "#EconomicActivity \n",
    "\n",
    "df.drop(columns='EconomicActivity',inplace=True)\n",
    "\n",
    "#City \n",
    "\n",
    "df.dropna(subset=['City'], inplace=True)\n",
    "\n",
    "#Revenue e Age\n",
    "\n",
    "df['Revenue'].fillna(df['Revenue'].median(),inplace=True)\n",
    "df['Age'].fillna(df['Age'].median(),inplace=True)"
   ]
  },
  {
   "cell_type": "code",
   "execution_count": 177,
   "metadata": {},
   "outputs": [],
   "source": [
    "df_cleaning = df.dropna(subset=['DefaultStatus'])\n",
    "df_pred = df[df['DefaultStatus'].isnull()]"
   ]
  },
  {
   "cell_type": "markdown",
   "metadata": {},
   "source": [
    "### Zeros\n",
    "***\n",
    "\n",
    "O objetivo dessa análise é verificar a presença de zeros que fuja do padrão da variável. "
   ]
  },
  {
   "cell_type": "code",
   "execution_count": 178,
   "metadata": {},
   "outputs": [
    {
     "data": {
      "text/plain": [
       "ApplicationDate       0\n",
       "CreditAmount          0\n",
       "PersonType            0\n",
       "ApprovalStatus        0\n",
       "ProductType           0\n",
       "City                  0\n",
       "Revenue               0\n",
       "Age                  91\n",
       "CreditScore           0\n",
       "DefaultStatus      3829\n",
       "dtype: int64"
      ]
     },
     "execution_count": 178,
     "metadata": {},
     "output_type": "execute_result"
    }
   ],
   "source": [
    "(df_cleaning == 0).sum()"
   ]
  },
  {
   "cell_type": "markdown",
   "metadata": {},
   "source": [
    "Os dados fazem sentido com as variáveis, já que na variável idade existem clientes PJ no primeiro ano da empresa, e na variável target se trata de um booleano. "
   ]
  },
  {
   "cell_type": "markdown",
   "metadata": {},
   "source": [
    "### Duplicados"
   ]
  },
  {
   "cell_type": "code",
   "execution_count": 179,
   "metadata": {},
   "outputs": [
    {
     "name": "stdout",
     "output_type": "stream",
     "text": [
      "O dataset possue 0 dados duplicados\n"
     ]
    }
   ],
   "source": [
    "print(f'O dataset possue {df_cleaning.duplicated().sum()} dados duplicados')"
   ]
  },
  {
   "cell_type": "markdown",
   "metadata": {},
   "source": [
    "### Outliers"
   ]
  },
  {
   "cell_type": "code",
   "execution_count": 180,
   "metadata": {},
   "outputs": [
    {
     "data": {
      "application/vnd.jupyter.widget-view+json": {
       "model_id": "15893c44f02d4f8eb52ffefb17006ff7",
       "version_major": 2,
       "version_minor": 0
      },
      "text/plain": [
       "interactive(children=(Dropdown(description='Variável', options=('ApplicationDate', 'CreditAmount', 'Revenue', …"
      ]
     },
     "metadata": {},
     "output_type": "display_data"
    }
   ],
   "source": [
    "@interact(Variável=['ApplicationDate','CreditAmount','Revenue','Age','CreditScore'])\n",
    "def boxplot_interativo(Variável):\n",
    "    plt.figure(figsize=(20,6))\n",
    "    sns.boxplot(df_cleaning, x=Variável)"
   ]
  },
  {
   "cell_type": "markdown",
   "metadata": {},
   "source": [
    "As variáveis valor solicitado (CreditAmount) e receita (Revenue) possuem outliers, porém ao modelar uma regressão será aplicado uma transformação (StandartdScale) para que o modelo não sofra confusão em relação as grandezas de números, e com isso o impacto desses outliers tende a diminuir. "
   ]
  },
  {
   "cell_type": "markdown",
   "metadata": {},
   "source": [
    "# EDA \n",
    "***\n",
    "\n",
    "Esse tópico será focado em responder as seguintes questões:\n",
    "\n",
    "1) A política de crédito atual tem relação com o comportamento final do cliente? Está impedindo que clientes com probabilidade de inadimplência receba o crédito ?\n",
    "\n",
    "    Para esse questão a principal ferramenta será um teste de hipótese a fim de afirmar se existe essa relação ou não. Porém antes será necessário entender como a variável CreditScore se comporta, para definir qual teste será realizado.\n",
    "\n",
    "\n",
    "2) Quais principais variáveis ajudam a identificar prováveis clientes indimplentes? \n",
    "\n",
    "    Para responder essa questão será feito um modelo de regressão logística, para entender a relação da variável dependente (DefaultStatus) representado pela letra y, com as variáveis independentes (as outras variáveis do dataset) e como elas conseguem explicar o comportamento dos possíveis clientes indadimplentes. Posteriormente será feito um modelo de regressão linear com as mesmas variáveis tendo como variável dependente a política de crédito (CreditScore), a fim de entender a relação delas com a política e sugerir possíveis melhorias."
   ]
  },
  {
   "cell_type": "markdown",
   "metadata": {},
   "source": [
    "## 1) A política de crédito atual tem relação com o comportamento final do cliente? Está impedindo que clientes com probabilidade de inadimplência receba o crédito ?"
   ]
  },
  {
   "cell_type": "code",
   "execution_count": 181,
   "metadata": {},
   "outputs": [
    {
     "data": {
      "text/plain": [
       "DefaultStatus\n",
       "0.0    0.814161\n",
       "1.0    0.185839\n",
       "Name: proportion, dtype: float64"
      ]
     },
     "execution_count": 181,
     "metadata": {},
     "output_type": "execute_result"
    }
   ],
   "source": [
    "df_cleaning['DefaultStatus'].value_counts(normalize=True)"
   ]
  },
  {
   "cell_type": "code",
   "execution_count": 182,
   "metadata": {},
   "outputs": [
    {
     "data": {
      "image/png": "[encoded data removed]",
      "text/plain": [
       "<Figure size 1500x600 with 1 Axes>"
      ]
     },
     "metadata": {},
     "output_type": "display_data"
    }
   ],
   "source": [
    "ax = sns.boxplot(data = df_cleaning, x= 'CreditScore', hue='DefaultStatus',width=0.3)\n",
    "ax.set_title('Política de Crédito x Indice de Inadimplência', fontsize=16)\n",
    "ax.set_ylabel('Score de Crédito', fontsize=16);"
   ]
  },
  {
   "cell_type": "markdown",
   "metadata": {},
   "source": [
    "Em uma análise descritiva foi possível notar que da amostra de clientes que tiveram crédito aprovado 81,41% foram adimplentes. Na análise gráfica é notavel que o comportamento do score de crédito não tem gerado impacto em relação aos clientes inadimplentes (1), já que apresenta um comportamento muito similar ao dos clientes adimplentes (0). Para confirmar se existe o score impacta no fato do clientes ser inadimplente ou não será realizado um teste de hipótese, porém antes será necessário entender o comportamento da variável CreditScore através de um histograma para compreender se a distribuição dos dados segue uma normal, o que vai direcionar a escolha do nosso teste, já que caso siga uma normal será aplicado o teste paramétrico de duas amostras, e caso não siga será aplicado o teste de Mann-Whitney."
   ]
  },
  {
   "cell_type": "code",
   "execution_count": 183,
   "metadata": {},
   "outputs": [
    {
     "data": {
      "text/plain": [
       "<Axes: xlabel='CreditScore', ylabel='Count'>"
      ]
     },
     "execution_count": 183,
     "metadata": {},
     "output_type": "execute_result"
    },
    {
     "data": {
      "image/png": "[encoded data removed]",
      "text/plain": [
       "<Figure size 1500x600 with 1 Axes>"
      ]
     },
     "metadata": {},
     "output_type": "display_data"
    }
   ],
   "source": [
    "sns.histplot(df_cleaning['CreditScore'], kde=True)"
   ]
  },
  {
   "cell_type": "markdown",
   "metadata": {},
   "source": [
    "Através da análise gráfica a distribuição aparenta ser uniforme. Irei confirmar isso aplicando um normal test que testa hipótese nula $H_0$ de que a amostra é proveniente de uma distribuição normal. Para o teste será utilizado um nível de significancia de 5%.\n",
    "\n",
    "H0: A amostra é proveniente de uma normal\n",
    "\n",
    "\n",
    "H1: A amostra não proveniente de uma normal"
   ]
  },
  {
   "cell_type": "code",
   "execution_count": 184,
   "metadata": {},
   "outputs": [
    {
     "name": "stdout",
     "output_type": "stream",
     "text": [
      "Rejeitar H0: A variável não se trata de uma normal\n"
     ]
    }
   ],
   "source": [
    "stat_test, pvalor = normaltest(df_cleaning['CreditScore'])\n",
    "\n",
    "if pvalor < 0.05:\n",
    "    print('Rejeitar H0: A variável não se trata de uma normal')\n",
    "else:\n",
    "    print('Não Rejeitar H0: A variável se trata de uma normal')"
   ]
  },
  {
   "cell_type": "markdown",
   "metadata": {},
   "source": [
    "Como foi confirmado que a variável não se trata de uma normal seguirei com a utilização do teste de Mann-Whitney. Ele será um teste bicaudal que vai teste se existe diferença entre a média de score de clientes adimplentes e inadimplentes.\n",
    "\n",
    "H0: Não existe diferença na média de score dos clientes adimplentes e inadimplentes\n",
    "\n",
    "\n",
    "H1: Existe diferença na média de score dos clientes adimplentes e inadimplentes\n"
   ]
  },
  {
   "cell_type": "code",
   "execution_count": 185,
   "metadata": {},
   "outputs": [],
   "source": [
    "adimplentes = df_cleaning.query('DefaultStatus == 0')['CreditScore']\n",
    "inadimplentes = df_cleaning.query('DefaultStatus == 1')['CreditScore']"
   ]
  },
  {
   "cell_type": "code",
   "execution_count": 186,
   "metadata": {},
   "outputs": [
    {
     "name": "stdout",
     "output_type": "stream",
     "text": [
      "Não Rejeitar H0: Não existe evidência estatística de que existe diferença significativa nas médias de score dos clientes adimplentes e inadimplentes\n"
     ]
    }
   ],
   "source": [
    "U, p_valor = mannwhitneyu(adimplentes, inadimplentes, alternative='two-sided')\n",
    "\n",
    "if p_valor < 0.05:\n",
    "    print('Rejeitar H0: Existe diferença significativa nas médias de score dos clientes adimplentes e inadimplentes')\n",
    "else:\n",
    "    print('Não Rejeitar H0: Não existe evidência estatística de que existe diferença significativa nas médias de score dos clientes adimplentes e inadimplentes')"
   ]
  },
  {
   "cell_type": "markdown",
   "metadata": {},
   "source": [
    "Conforme testes realizados, na amostra coletada não existe evidência estatística forte suficiente para afirmar que atual política de crédito está conseguindo avaliar bem o comportamento dos clientes e impedir que o crédito seja concedido para clientes que venham a se tornar inadimplentes.\n",
    "\n",
    "\n",
    "Após obtenção da primeira resposta irei fazer algumas análises e um modelo de regressão logísticas para compreender o comportamento dos clientes inadimplentes."
   ]
  },
  {
   "cell_type": "markdown",
   "metadata": {},
   "source": [
    "## 2) Quais principais variáveis ajudam a identificar prováveis clientes indimplentes? \n",
    "***\n",
    "\n",
    "O primeiro passo da modelagem de dados será excluir o status de aprovação, já que todos esses clientes tiveram crédito aprovado."
   ]
  },
  {
   "cell_type": "code",
   "execution_count": 187,
   "metadata": {},
   "outputs": [],
   "source": [
    "df_cleaning.drop(columns='ApprovalStatus', inplace=True)"
   ]
  },
  {
   "cell_type": "markdown",
   "metadata": {},
   "source": [
    "Vou realizar algumas análises descritivas para compreender quais variáveis podem ter impacto ou não na variável dependente. "
   ]
  },
  {
   "cell_type": "code",
   "execution_count": 188,
   "metadata": {},
   "outputs": [
    {
     "data": {
      "application/vnd.jupyter.widget-view+json": {
       "model_id": "df097c93d2904f859f34cf4f513a8b63",
       "version_major": 2,
       "version_minor": 0
      },
      "text/plain": [
       "interactive(children=(Dropdown(description='Váriavel', options=('PersonType', 'ProductType', 'City'), value='P…"
      ]
     },
     "metadata": {},
     "output_type": "display_data"
    }
   ],
   "source": [
    "@interact(Váriavel=['PersonType','ProductType','City'])\n",
    "def barplot_interactive(Váriavel):\n",
    "    tx_inadimplencia = (df_cleaning.groupby(Váriavel)['DefaultStatus'].mean() * 100).round(2).reset_index()\n",
    "    ax = sns.barplot(x=Váriavel, y='DefaultStatus', data=tx_inadimplencia)\n",
    "    ax.set_ylabel('Taxa de Inadimplência')"
   ]
  },
  {
   "cell_type": "markdown",
   "metadata": {},
   "source": [
    "Através da análise gráfica foi possível constatar que todas variáveis categóricas apresentam diferenças das taxas de inadimplência, o que aponta que essas variáveis podem ser relevantes para explicação da target, e por isso devem entrar no modelo. Para isso serão transformadas em variáveis dummies.\n",
    "\n",
    "\n",
    "Em seguida vou validar as variáveis numéricas para compreender a relação com variável target."
   ]
  },
  {
   "cell_type": "code",
   "execution_count": 189,
   "metadata": {},
   "outputs": [
    {
     "data": {
      "text/html": [
       "<div>\n",
       "<style scoped>\n",
       "    .dataframe tbody tr th:only-of-type {\n",
       "        vertical-align: middle;\n",
       "    }\n",
       "\n",
       "    .dataframe tbody tr th {\n",
       "        vertical-align: top;\n",
       "    }\n",
       "\n",
       "    .dataframe thead th {\n",
       "        text-align: right;\n",
       "    }\n",
       "</style>\n",
       "<table border=\"1\" class=\"dataframe\">\n",
       "  <thead>\n",
       "    <tr style=\"text-align: right;\">\n",
       "      <th></th>\n",
       "      <th>ApplicationDate</th>\n",
       "      <th>CreditAmount</th>\n",
       "      <th>Revenue</th>\n",
       "      <th>Age</th>\n",
       "      <th>CreditScore</th>\n",
       "      <th>DefaultStatus</th>\n",
       "    </tr>\n",
       "  </thead>\n",
       "  <tbody>\n",
       "    <tr>\n",
       "      <th>ApplicationDate</th>\n",
       "      <td>1.000000</td>\n",
       "      <td>-0.017655</td>\n",
       "      <td>0.008414</td>\n",
       "      <td>0.005666</td>\n",
       "      <td>0.017478</td>\n",
       "      <td>0.009579</td>\n",
       "    </tr>\n",
       "    <tr>\n",
       "      <th>CreditAmount</th>\n",
       "      <td>-0.017655</td>\n",
       "      <td>1.000000</td>\n",
       "      <td>0.010298</td>\n",
       "      <td>-0.012057</td>\n",
       "      <td>0.009411</td>\n",
       "      <td>0.002567</td>\n",
       "    </tr>\n",
       "    <tr>\n",
       "      <th>Revenue</th>\n",
       "      <td>0.008414</td>\n",
       "      <td>0.010298</td>\n",
       "      <td>1.000000</td>\n",
       "      <td>-0.404870</td>\n",
       "      <td>-0.017418</td>\n",
       "      <td>-0.126826</td>\n",
       "    </tr>\n",
       "    <tr>\n",
       "      <th>Age</th>\n",
       "      <td>0.005666</td>\n",
       "      <td>-0.012057</td>\n",
       "      <td>-0.404870</td>\n",
       "      <td>1.000000</td>\n",
       "      <td>0.011357</td>\n",
       "      <td>0.165524</td>\n",
       "    </tr>\n",
       "    <tr>\n",
       "      <th>CreditScore</th>\n",
       "      <td>0.017478</td>\n",
       "      <td>0.009411</td>\n",
       "      <td>-0.017418</td>\n",
       "      <td>0.011357</td>\n",
       "      <td>1.000000</td>\n",
       "      <td>0.016354</td>\n",
       "    </tr>\n",
       "    <tr>\n",
       "      <th>DefaultStatus</th>\n",
       "      <td>0.009579</td>\n",
       "      <td>0.002567</td>\n",
       "      <td>-0.126826</td>\n",
       "      <td>0.165524</td>\n",
       "      <td>0.016354</td>\n",
       "      <td>1.000000</td>\n",
       "    </tr>\n",
       "  </tbody>\n",
       "</table>\n",
       "</div>"
      ],
      "text/plain": [
       "                 ApplicationDate  CreditAmount   Revenue       Age  \\\n",
       "ApplicationDate         1.000000     -0.017655  0.008414  0.005666   \n",
       "CreditAmount           -0.017655      1.000000  0.010298 -0.012057   \n",
       "Revenue                 0.008414      0.010298  1.000000 -0.404870   \n",
       "Age                     0.005666     -0.012057 -0.404870  1.000000   \n",
       "CreditScore             0.017478      0.009411 -0.017418  0.011357   \n",
       "DefaultStatus           0.009579      0.002567 -0.126826  0.165524   \n",
       "\n",
       "                 CreditScore  DefaultStatus  \n",
       "ApplicationDate     0.017478       0.009579  \n",
       "CreditAmount        0.009411       0.002567  \n",
       "Revenue            -0.017418      -0.126826  \n",
       "Age                 0.011357       0.165524  \n",
       "CreditScore         1.000000       0.016354  \n",
       "DefaultStatus       0.016354       1.000000  "
      ]
     },
     "execution_count": 189,
     "metadata": {},
     "output_type": "execute_result"
    }
   ],
   "source": [
    "df_cleaning.select_dtypes(include=['number']).corr()"
   ]
  },
  {
   "cell_type": "code",
   "execution_count": 190,
   "metadata": {},
   "outputs": [
    {
     "data": {
      "application/vnd.jupyter.widget-view+json": {
       "model_id": "4aec9d1b8539478f8e621ab736ce50ec",
       "version_major": 2,
       "version_minor": 0
      },
      "text/plain": [
       "interactive(children=(Dropdown(description='Variável', options=('ApplicationDate', 'CreditAmount', 'Revenue', …"
      ]
     },
     "metadata": {},
     "output_type": "display_data"
    }
   ],
   "source": [
    "@interact(Variável=['ApplicationDate','CreditAmount','Revenue','Age','CreditScore'],\n",
    "         Filtro = ['PersonType','ProductType','City'])\n",
    "def lmplot_interact(Variável, Filtro):\n",
    "    ax= sns.lmplot(y=Variável, x=\"DefaultStatus\", data=df_cleaning, col=Filtro, legend=True)\n",
    "    ax.fig.suptitle(f'Reta de Regressao - Inadimplência X {Variável}', fontsize=16, y=1.02)\n",
    "    ax.set_xlabels(\"Inadimplência\", fontsize=14)\n",
    "    ax.set_ylabels(Variável, fontsize=14);"
   ]
  },
  {
   "cell_type": "markdown",
   "metadata": {},
   "source": [
    "Observando as variáveis contínuas foi possível constatar que as que podem ter maior impacto no modelo é idade e o renda. A relação seria quanto maior a idade maior a chance de inadimplência, e quanto menor a receita maior a chance de inadimplência, análise que faz muito sentido do ponto de vista de negócio.\n",
    "\n",
    "Para sequência irei fazer as transformações necessárias nas variáveis e criar o modelo."
   ]
  },
  {
   "cell_type": "markdown",
   "metadata": {},
   "source": [
    "### Modelagem \n",
    "*** \n",
    "\n",
    "Antes de seguir com o treinamento do modelo vou separar a variável target (y) das variáveis explicativas (X). Depois realizarei dois processos:\n",
    "\n",
    "Variáveis numéricas: Fazer um trasnformação com StandartdScale.\n",
    "\n",
    "Variáveis Categóricas: Criar variáveis Dummies."
   ]
  },
  {
   "cell_type": "code",
   "execution_count": 191,
   "metadata": {},
   "outputs": [],
   "source": [
    "y = df_cleaning['DefaultStatus'].reset_index(drop=True)\n",
    "\n",
    "X = df_cleaning[['ApplicationDate','CreditAmount','PersonType','ProductType','City','Revenue','Age','CreditScore']].reset_index(drop=True)"
   ]
  },
  {
   "cell_type": "code",
   "execution_count": 192,
   "metadata": {},
   "outputs": [],
   "source": [
    "x_numeric = X.select_dtypes(include=['number'])\n",
    "x_categorical = X.select_dtypes(include=['object'])\n",
    "\n",
    "# Escalonamento \n",
    "\n",
    "scale = StandardScaler()\n",
    "x_numeric = pd.DataFrame(scale.fit_transform(x_numeric), columns=x_numeric.columns)\n",
    "\n",
    "# Dummies\n",
    "\n",
    "x_categorical = pd.get_dummies(x_categorical)\n",
    "\n",
    "# X\n",
    "\n",
    "X = pd.concat([x_numeric,x_categorical],axis=1)\n"
   ]
  },
  {
   "cell_type": "markdown",
   "metadata": {},
   "source": [
    "Após as transformações seguirei com a criação do modelo. \n",
    "\n",
    "Primeiramente irei separar os dados em treino e teste, criar o modelo, treinar e testar e apurar os resultados de quanto o modelo foi capaz de explicar. "
   ]
  },
  {
   "cell_type": "code",
   "execution_count": 193,
   "metadata": {},
   "outputs": [],
   "source": [
    "X_train, X_test, y_train, y_test = train_test_split(X,y, test_size= 0.25, random_state=42)"
   ]
  },
  {
   "cell_type": "code",
   "execution_count": 200,
   "metadata": {},
   "outputs": [
    {
     "name": "stdout",
     "output_type": "stream",
     "text": [
      "Acurácia = 65.36 %\n"
     ]
    }
   ],
   "source": [
    "#Modelo \n",
    "\n",
    "lr = LogisticRegression(class_weight='balanced')\n",
    "\n",
    "lr.fit(X, y);\n",
    "\n",
    "print(f'Acurácia = {(lr.score(X, y) * 100):.2f} %')"
   ]
  },
  {
   "cell_type": "code",
   "execution_count": 201,
   "metadata": {},
   "outputs": [],
   "source": [
    "y_predict = lr.predict(X)"
   ]
  },
  {
   "cell_type": "code",
   "execution_count": 203,
   "metadata": {},
   "outputs": [
    {
     "data": {
      "image/png": "[encoded data removed]",
      "text/plain": [
       "<Figure size 1500x600 with 2 Axes>"
      ]
     },
     "metadata": {},
     "output_type": "display_data"
    }
   ],
   "source": [
    "ax = ConfusionMatrixDisplay(confusion_matrix=confusion_matrix(y, y_predict))\n",
    "ax.plot(cmap=plt.cm.Blues)\n",
    "plt.show()"
   ]
  },
  {
   "cell_type": "code",
   "execution_count": 204,
   "metadata": {},
   "outputs": [
    {
     "data": {
      "text/plain": [
       "<Axes: >"
      ]
     },
     "execution_count": 204,
     "metadata": {},
     "output_type": "execute_result"
    },
    {
     "data": {
      "image/png": "[encoded data removed]",
      "text/plain": [
       "<Figure size 1500x600 with 1 Axes>"
      ]
     },
     "metadata": {},
     "output_type": "display_data"
    }
   ],
   "source": [
    "sns.barplot(pd.Series(lr.coef_[0], index=X.columns).sort_values(ascending=False), orient='h')"
   ]
  }
 ],
 "metadata": {
  "kernelspec": {
   "display_name": "Python 3",
   "language": "python",
   "name": "python3"
  },
  "language_info": {
   "codemirror_mode": {
    "name": "ipython",
    "version": 3
   },
   "file_extension": ".py",
   "mimetype": "text/x-python",
   "name": "python",
   "nbconvert_exporter": "python",
   "pygments_lexer": "ipython3",
   "version": "3.10.12"
  }
 },
 "nbformat": 4,
 "nbformat_minor": 2
}
